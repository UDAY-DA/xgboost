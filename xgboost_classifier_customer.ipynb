{
 "cells": [
  {
   "cell_type": "code",
   "execution_count": null,
   "metadata": {},
   "outputs": [],
   "source": [
    "# pip install xgboost"
   ]
  },
  {
   "cell_type": "code",
   "execution_count": 1,
   "metadata": {},
   "outputs": [],
   "source": [
    "from xgboost import XGBClassifier"
   ]
  },
  {
   "cell_type": "code",
   "execution_count": 2,
   "metadata": {},
   "outputs": [],
   "source": [
    "xgb = XGBClassifier()"
   ]
  },
  {
   "cell_type": "code",
   "execution_count": 3,
   "metadata": {},
   "outputs": [
    {
     "data": {
      "text/plain": [
       "XGBClassifier(base_score=0.5, booster='gbtree', colsample_bylevel=1,\n",
       "       colsample_bytree=1, gamma=0, learning_rate=0.1, max_delta_step=0,\n",
       "       max_depth=3, min_child_weight=1, missing=None, n_estimators=100,\n",
       "       n_jobs=1, nthread=None, objective='binary:logistic', random_state=0,\n",
       "       reg_alpha=0, reg_lambda=1, scale_pos_weight=1, seed=None,\n",
       "       silent=True, subsample=1)"
      ]
     },
     "execution_count": 3,
     "metadata": {},
     "output_type": "execute_result"
    }
   ],
   "source": [
    "xgb"
   ]
  },
  {
   "cell_type": "code",
   "execution_count": 4,
   "metadata": {},
   "outputs": [],
   "source": [
    "import pandas as pd"
   ]
  },
  {
   "cell_type": "code",
   "execution_count": 5,
   "metadata": {},
   "outputs": [],
   "source": [
    "input = pd.read_excel('marketing_campaign.xlsx')"
   ]
  },
  {
   "cell_type": "code",
   "execution_count": 6,
   "metadata": {},
   "outputs": [
    {
     "data": {
      "text/html": [
       "<div>\n",
       "<style scoped>\n",
       "    .dataframe tbody tr th:only-of-type {\n",
       "        vertical-align: middle;\n",
       "    }\n",
       "\n",
       "    .dataframe tbody tr th {\n",
       "        vertical-align: top;\n",
       "    }\n",
       "\n",
       "    .dataframe thead th {\n",
       "        text-align: right;\n",
       "    }\n",
       "</style>\n",
       "<table border=\"1\" class=\"dataframe\">\n",
       "  <thead>\n",
       "    <tr style=\"text-align: right;\">\n",
       "      <th></th>\n",
       "      <th>Age</th>\n",
       "      <th>Experience</th>\n",
       "      <th>Income</th>\n",
       "      <th>Family</th>\n",
       "      <th>CCAvg</th>\n",
       "      <th>Education</th>\n",
       "      <th>Mortgage</th>\n",
       "      <th>Securities Account</th>\n",
       "      <th>CD Account</th>\n",
       "      <th>Online</th>\n",
       "      <th>CreditCard</th>\n",
       "      <th>Offer_acceptance</th>\n",
       "    </tr>\n",
       "  </thead>\n",
       "  <tbody>\n",
       "    <tr>\n",
       "      <th>0</th>\n",
       "      <td>25</td>\n",
       "      <td>1</td>\n",
       "      <td>49</td>\n",
       "      <td>4</td>\n",
       "      <td>1.6</td>\n",
       "      <td>1</td>\n",
       "      <td>0</td>\n",
       "      <td>1</td>\n",
       "      <td>0</td>\n",
       "      <td>0</td>\n",
       "      <td>0</td>\n",
       "      <td>0</td>\n",
       "    </tr>\n",
       "    <tr>\n",
       "      <th>1</th>\n",
       "      <td>45</td>\n",
       "      <td>19</td>\n",
       "      <td>34</td>\n",
       "      <td>3</td>\n",
       "      <td>1.5</td>\n",
       "      <td>1</td>\n",
       "      <td>0</td>\n",
       "      <td>1</td>\n",
       "      <td>0</td>\n",
       "      <td>0</td>\n",
       "      <td>0</td>\n",
       "      <td>0</td>\n",
       "    </tr>\n",
       "    <tr>\n",
       "      <th>2</th>\n",
       "      <td>39</td>\n",
       "      <td>15</td>\n",
       "      <td>11</td>\n",
       "      <td>1</td>\n",
       "      <td>1.0</td>\n",
       "      <td>1</td>\n",
       "      <td>0</td>\n",
       "      <td>0</td>\n",
       "      <td>0</td>\n",
       "      <td>0</td>\n",
       "      <td>0</td>\n",
       "      <td>0</td>\n",
       "    </tr>\n",
       "    <tr>\n",
       "      <th>3</th>\n",
       "      <td>35</td>\n",
       "      <td>9</td>\n",
       "      <td>100</td>\n",
       "      <td>1</td>\n",
       "      <td>2.7</td>\n",
       "      <td>2</td>\n",
       "      <td>0</td>\n",
       "      <td>0</td>\n",
       "      <td>0</td>\n",
       "      <td>0</td>\n",
       "      <td>0</td>\n",
       "      <td>0</td>\n",
       "    </tr>\n",
       "    <tr>\n",
       "      <th>4</th>\n",
       "      <td>35</td>\n",
       "      <td>8</td>\n",
       "      <td>45</td>\n",
       "      <td>4</td>\n",
       "      <td>1.0</td>\n",
       "      <td>2</td>\n",
       "      <td>0</td>\n",
       "      <td>0</td>\n",
       "      <td>0</td>\n",
       "      <td>0</td>\n",
       "      <td>1</td>\n",
       "      <td>1</td>\n",
       "    </tr>\n",
       "  </tbody>\n",
       "</table>\n",
       "</div>"
      ],
      "text/plain": [
       "   Age  Experience  Income  Family  CCAvg  Education  Mortgage  \\\n",
       "0   25           1      49       4    1.6          1         0   \n",
       "1   45          19      34       3    1.5          1         0   \n",
       "2   39          15      11       1    1.0          1         0   \n",
       "3   35           9     100       1    2.7          2         0   \n",
       "4   35           8      45       4    1.0          2         0   \n",
       "\n",
       "   Securities Account  CD Account  Online  CreditCard  Offer_acceptance  \n",
       "0                   1           0       0           0                 0  \n",
       "1                   1           0       0           0                 0  \n",
       "2                   0           0       0           0                 0  \n",
       "3                   0           0       0           0                 0  \n",
       "4                   0           0       0           1                 1  "
      ]
     },
     "execution_count": 6,
     "metadata": {},
     "output_type": "execute_result"
    }
   ],
   "source": [
    "input.head()"
   ]
  },
  {
   "cell_type": "code",
   "execution_count": 7,
   "metadata": {},
   "outputs": [
    {
     "data": {
      "text/plain": [
       "(5000, 12)"
      ]
     },
     "execution_count": 7,
     "metadata": {},
     "output_type": "execute_result"
    }
   ],
   "source": [
    "input.shape"
   ]
  },
  {
   "cell_type": "code",
   "execution_count": 8,
   "metadata": {},
   "outputs": [],
   "source": [
    "x = input.drop(['Offer_acceptance'], axis=1)\n",
    "y = input['Offer_acceptance']"
   ]
  },
  {
   "cell_type": "code",
   "execution_count": 9,
   "metadata": {},
   "outputs": [
    {
     "name": "stdout",
     "output_type": "stream",
     "text": [
      "(5000, 11) (5000,)\n"
     ]
    }
   ],
   "source": [
    "print(x.shape, y.shape)"
   ]
  },
  {
   "cell_type": "code",
   "execution_count": 10,
   "metadata": {},
   "outputs": [],
   "source": [
    "from sklearn.model_selection import train_test_split"
   ]
  },
  {
   "cell_type": "code",
   "execution_count": 11,
   "metadata": {},
   "outputs": [],
   "source": [
    "x_train, x_test, y_train, y_test = train_test_split(x, y, test_size=.3)"
   ]
  },
  {
   "cell_type": "code",
   "execution_count": 12,
   "metadata": {},
   "outputs": [
    {
     "name": "stdout",
     "output_type": "stream",
     "text": [
      "(3500, 11) (3500,)\n"
     ]
    }
   ],
   "source": [
    "print(x_train.shape, y_train.shape)"
   ]
  },
  {
   "cell_type": "code",
   "execution_count": 13,
   "metadata": {},
   "outputs": [
    {
     "data": {
      "text/plain": [
       "XGBClassifier(base_score=0.5, booster='gbtree', colsample_bylevel=1,\n",
       "       colsample_bytree=1, gamma=0, learning_rate=0.1, max_delta_step=0,\n",
       "       max_depth=3, min_child_weight=1, missing=None, n_estimators=100,\n",
       "       n_jobs=1, nthread=None, objective='binary:logistic', random_state=0,\n",
       "       reg_alpha=0, reg_lambda=1, scale_pos_weight=1, seed=None,\n",
       "       silent=True, subsample=1)"
      ]
     },
     "execution_count": 13,
     "metadata": {},
     "output_type": "execute_result"
    }
   ],
   "source": [
    "xgb.fit(x_train, y_train)"
   ]
  },
  {
   "cell_type": "code",
   "execution_count": 14,
   "metadata": {},
   "outputs": [],
   "source": [
    "y_test_pred = xgb.predict(x_test)"
   ]
  },
  {
   "cell_type": "code",
   "execution_count": 15,
   "metadata": {},
   "outputs": [
    {
     "data": {
      "text/plain": [
       "0.894"
      ]
     },
     "execution_count": 15,
     "metadata": {},
     "output_type": "execute_result"
    }
   ],
   "source": [
    "from sklearn import metrics\n",
    "metrics.accuracy_score(y_test, y_test_pred)"
   ]
  },
  {
   "cell_type": "code",
   "execution_count": null,
   "metadata": {},
   "outputs": [],
   "source": [
    "from sklearn.model_selection import cross_val_score"
   ]
  },
  {
   "cell_type": "code",
   "execution_count": null,
   "metadata": {},
   "outputs": [],
   "source": [
    "cross_val_score(xgb, x, y, cv=10)"
   ]
  },
  {
   "cell_type": "code",
   "execution_count": null,
   "metadata": {},
   "outputs": [],
   "source": [
    "cross_val_score(xgb, x, y, cv=10).mean()"
   ]
  },
  {
   "cell_type": "code",
   "execution_count": null,
   "metadata": {},
   "outputs": [],
   "source": [
    "y_test_pred"
   ]
  },
  {
   "cell_type": "code",
   "execution_count": null,
   "metadata": {},
   "outputs": [],
   "source": [
    "xgb.predict_proba(x_test)[0:3]"
   ]
  },
  {
   "cell_type": "markdown",
   "metadata": {},
   "source": [
    "#### XGBOOST Tuning "
   ]
  },
  {
   "cell_type": "code",
   "execution_count": null,
   "metadata": {},
   "outputs": [],
   "source": [
    "xgb"
   ]
  },
  {
   "cell_type": "markdown",
   "metadata": {},
   "source": [
    "####  General Parameters\n"
   ]
  },
  {
   "cell_type": "code",
   "execution_count": null,
   "metadata": {},
   "outputs": [],
   "source": [
    "# learning_rate[default =0.1] : Step size shrinkage used in update to prevents overfitting\n",
    "\n",
    "# gamma : Minimum loss reduction required to make a further partition on a leaf node of the tree.\n",
    "\n",
    "# min_split_loss [default= 0], Minimum loss reduction required to make a further partition on a leaf node of the tree\n",
    "\n",
    "# max_depth [default=6] , \n",
    "\n",
    "# subsample [default=1] : Subsample ratio of the training instances. \n",
    "# colsample_bylevel=1  : Columns are subsampled from the set of columns chosen for the current tree.\n",
    "\n",
    "# colsample_bytree=1   : subsample ratio of columns during constructing each tree. Subsampling occurs once for every tree constructed.\n",
    "\n",
    "# reg_lambda=1 , L2 regularization term on weights. \n",
    "\n",
    "# reg_alpha=0, L1 regularization term on weights. \n",
    "\n",
    "# scale_pos_weight=1 , Control the balance of positive and negative weights"
   ]
  },
  {
   "cell_type": "markdown",
   "metadata": {},
   "source": [
    "#### XGB Tunining"
   ]
  },
  {
   "cell_type": "code",
   "execution_count": 16,
   "metadata": {},
   "outputs": [],
   "source": [
    "from sklearn.model_selection import GridSearchCV, StratifiedKFold"
   ]
  },
  {
   "cell_type": "code",
   "execution_count": 18,
   "metadata": {},
   "outputs": [],
   "source": [
    "xgb = XGBClassifier( n_estimators=100)"
   ]
  },
  {
   "cell_type": "code",
   "execution_count": 19,
   "metadata": {},
   "outputs": [],
   "source": [
    "param_grid = { \n",
    "               \"learning_rate\"      : [.2 ],    \n",
    "               \"gamma\"              : [0.25, 1, 1.5 ],             \n",
    "               \"subsample\"          : [.6, .7, .8 ], \n",
    "               \"max_depth\"          : [3, 6, 10],\n",
    "               \"colsample_bytree\"   : [.4, .6, .8 ]            \n",
    "#               \"scale_pos_weight\"   : [1, 2]\n",
    "                         \n",
    "#                \"class_weight\"      : [{0:1, 1:1}, {0:1, 1:10}]\n",
    "              \n",
    "               }"
   ]
  },
  {
   "cell_type": "code",
   "execution_count": 20,
   "metadata": {},
   "outputs": [],
   "source": [
    "optimized_tree = GridSearchCV(xgb, param_grid, scoring = 'accuracy', cv = 5, verbose=3)"
   ]
  },
  {
   "cell_type": "code",
   "execution_count": 21,
   "metadata": {},
   "outputs": [
    {
     "name": "stdout",
     "output_type": "stream",
     "text": [
      "Fitting 5 folds for each of 81 candidates, totalling 405 fits\n",
      "[CV] colsample_bytree=0.4, gamma=0.25, learning_rate=0.2, max_depth=3, subsample=0.6 \n"
     ]
    },
    {
     "name": "stderr",
     "output_type": "stream",
     "text": [
      "[Parallel(n_jobs=1)]: Using backend SequentialBackend with 1 concurrent workers.\n"
     ]
    },
    {
     "name": "stdout",
     "output_type": "stream",
     "text": [
      "[CV]  colsample_bytree=0.4, gamma=0.25, learning_rate=0.2, max_depth=3, subsample=0.6, score=0.9057142857142857, total=   0.1s\n",
      "[CV] colsample_bytree=0.4, gamma=0.25, learning_rate=0.2, max_depth=3, subsample=0.6 \n"
     ]
    },
    {
     "name": "stderr",
     "output_type": "stream",
     "text": [
      "[Parallel(n_jobs=1)]: Done   1 out of   1 | elapsed:    0.1s remaining:    0.0s\n"
     ]
    },
    {
     "name": "stdout",
     "output_type": "stream",
     "text": [
      "[CV]  colsample_bytree=0.4, gamma=0.25, learning_rate=0.2, max_depth=3, subsample=0.6, score=0.89, total=   0.1s\n",
      "[CV] colsample_bytree=0.4, gamma=0.25, learning_rate=0.2, max_depth=3, subsample=0.6 \n"
     ]
    },
    {
     "name": "stderr",
     "output_type": "stream",
     "text": [
      "[Parallel(n_jobs=1)]: Done   2 out of   2 | elapsed:    0.4s remaining:    0.0s\n"
     ]
    },
    {
     "name": "stdout",
     "output_type": "stream",
     "text": [
      "[CV]  colsample_bytree=0.4, gamma=0.25, learning_rate=0.2, max_depth=3, subsample=0.6, score=0.8985714285714286, total=   0.1s\n",
      "[CV] colsample_bytree=0.4, gamma=0.25, learning_rate=0.2, max_depth=3, subsample=0.6 \n",
      "[CV]  colsample_bytree=0.4, gamma=0.25, learning_rate=0.2, max_depth=3, subsample=0.6, score=0.9014285714285715, total=   0.1s\n",
      "[CV] colsample_bytree=0.4, gamma=0.25, learning_rate=0.2, max_depth=3, subsample=0.6 \n",
      "[CV]  colsample_bytree=0.4, gamma=0.25, learning_rate=0.2, max_depth=3, subsample=0.6, score=0.8942857142857142, total=   0.1s\n",
      "[CV] colsample_bytree=0.4, gamma=0.25, learning_rate=0.2, max_depth=3, subsample=0.7 \n",
      "[CV]  colsample_bytree=0.4, gamma=0.25, learning_rate=0.2, max_depth=3, subsample=0.7, score=0.9028571428571428, total=   0.1s\n",
      "[CV] colsample_bytree=0.4, gamma=0.25, learning_rate=0.2, max_depth=3, subsample=0.7 \n",
      "[CV]  colsample_bytree=0.4, gamma=0.25, learning_rate=0.2, max_depth=3, subsample=0.7, score=0.8885714285714286, total=   0.1s\n",
      "[CV] colsample_bytree=0.4, gamma=0.25, learning_rate=0.2, max_depth=3, subsample=0.7 \n",
      "[CV]  colsample_bytree=0.4, gamma=0.25, learning_rate=0.2, max_depth=3, subsample=0.7, score=0.8971428571428571, total=   0.1s\n",
      "[CV] colsample_bytree=0.4, gamma=0.25, learning_rate=0.2, max_depth=3, subsample=0.7 \n",
      "[CV]  colsample_bytree=0.4, gamma=0.25, learning_rate=0.2, max_depth=3, subsample=0.7, score=0.9014285714285715, total=   0.1s\n",
      "[CV] colsample_bytree=0.4, gamma=0.25, learning_rate=0.2, max_depth=3, subsample=0.7 \n",
      "[CV]  colsample_bytree=0.4, gamma=0.25, learning_rate=0.2, max_depth=3, subsample=0.7, score=0.8971428571428571, total=   0.1s\n",
      "[CV] colsample_bytree=0.4, gamma=0.25, learning_rate=0.2, max_depth=3, subsample=0.8 \n",
      "[CV]  colsample_bytree=0.4, gamma=0.25, learning_rate=0.2, max_depth=3, subsample=0.8, score=0.9071428571428571, total=   0.1s\n",
      "[CV] colsample_bytree=0.4, gamma=0.25, learning_rate=0.2, max_depth=3, subsample=0.8 \n",
      "[CV]  colsample_bytree=0.4, gamma=0.25, learning_rate=0.2, max_depth=3, subsample=0.8, score=0.8914285714285715, total=   0.1s\n",
      "[CV] colsample_bytree=0.4, gamma=0.25, learning_rate=0.2, max_depth=3, subsample=0.8 \n",
      "[CV]  colsample_bytree=0.4, gamma=0.25, learning_rate=0.2, max_depth=3, subsample=0.8, score=0.8957142857142857, total=   0.1s\n",
      "[CV] colsample_bytree=0.4, gamma=0.25, learning_rate=0.2, max_depth=3, subsample=0.8 \n",
      "[CV]  colsample_bytree=0.4, gamma=0.25, learning_rate=0.2, max_depth=3, subsample=0.8, score=0.9, total=   0.1s\n",
      "[CV] colsample_bytree=0.4, gamma=0.25, learning_rate=0.2, max_depth=3, subsample=0.8 \n",
      "[CV]  colsample_bytree=0.4, gamma=0.25, learning_rate=0.2, max_depth=3, subsample=0.8, score=0.8971428571428571, total=   0.1s\n",
      "[CV] colsample_bytree=0.4, gamma=0.25, learning_rate=0.2, max_depth=6, subsample=0.6 \n",
      "[CV]  colsample_bytree=0.4, gamma=0.25, learning_rate=0.2, max_depth=6, subsample=0.6, score=0.8942857142857142, total=   0.2s\n",
      "[CV] colsample_bytree=0.4, gamma=0.25, learning_rate=0.2, max_depth=6, subsample=0.6 \n",
      "[CV]  colsample_bytree=0.4, gamma=0.25, learning_rate=0.2, max_depth=6, subsample=0.6, score=0.8757142857142857, total=   0.2s\n",
      "[CV] colsample_bytree=0.4, gamma=0.25, learning_rate=0.2, max_depth=6, subsample=0.6 \n",
      "[CV]  colsample_bytree=0.4, gamma=0.25, learning_rate=0.2, max_depth=6, subsample=0.6, score=0.8857142857142857, total=   0.2s\n",
      "[CV] colsample_bytree=0.4, gamma=0.25, learning_rate=0.2, max_depth=6, subsample=0.6 \n",
      "[CV]  colsample_bytree=0.4, gamma=0.25, learning_rate=0.2, max_depth=6, subsample=0.6, score=0.9, total=   0.2s\n",
      "[CV] colsample_bytree=0.4, gamma=0.25, learning_rate=0.2, max_depth=6, subsample=0.6 \n",
      "[CV]  colsample_bytree=0.4, gamma=0.25, learning_rate=0.2, max_depth=6, subsample=0.6, score=0.8928571428571429, total=   0.2s\n",
      "[CV] colsample_bytree=0.4, gamma=0.25, learning_rate=0.2, max_depth=6, subsample=0.7 \n",
      "[CV]  colsample_bytree=0.4, gamma=0.25, learning_rate=0.2, max_depth=6, subsample=0.7, score=0.9014285714285715, total=   0.2s\n",
      "[CV] colsample_bytree=0.4, gamma=0.25, learning_rate=0.2, max_depth=6, subsample=0.7 \n",
      "[CV]  colsample_bytree=0.4, gamma=0.25, learning_rate=0.2, max_depth=6, subsample=0.7, score=0.88, total=   0.2s\n",
      "[CV] colsample_bytree=0.4, gamma=0.25, learning_rate=0.2, max_depth=6, subsample=0.7 \n",
      "[CV]  colsample_bytree=0.4, gamma=0.25, learning_rate=0.2, max_depth=6, subsample=0.7, score=0.8914285714285715, total=   0.2s\n",
      "[CV] colsample_bytree=0.4, gamma=0.25, learning_rate=0.2, max_depth=6, subsample=0.7 \n",
      "[CV]  colsample_bytree=0.4, gamma=0.25, learning_rate=0.2, max_depth=6, subsample=0.7, score=0.8985714285714286, total=   0.2s\n",
      "[CV] colsample_bytree=0.4, gamma=0.25, learning_rate=0.2, max_depth=6, subsample=0.7 \n",
      "[CV]  colsample_bytree=0.4, gamma=0.25, learning_rate=0.2, max_depth=6, subsample=0.7, score=0.88, total=   0.2s\n",
      "[CV] colsample_bytree=0.4, gamma=0.25, learning_rate=0.2, max_depth=6, subsample=0.8 \n",
      "[CV]  colsample_bytree=0.4, gamma=0.25, learning_rate=0.2, max_depth=6, subsample=0.8, score=0.9042857142857142, total=   0.2s\n",
      "[CV] colsample_bytree=0.4, gamma=0.25, learning_rate=0.2, max_depth=6, subsample=0.8 \n",
      "[CV]  colsample_bytree=0.4, gamma=0.25, learning_rate=0.2, max_depth=6, subsample=0.8, score=0.8842857142857142, total=   0.2s\n",
      "[CV] colsample_bytree=0.4, gamma=0.25, learning_rate=0.2, max_depth=6, subsample=0.8 \n",
      "[CV]  colsample_bytree=0.4, gamma=0.25, learning_rate=0.2, max_depth=6, subsample=0.8, score=0.8914285714285715, total=   0.2s\n",
      "[CV] colsample_bytree=0.4, gamma=0.25, learning_rate=0.2, max_depth=6, subsample=0.8 \n",
      "[CV]  colsample_bytree=0.4, gamma=0.25, learning_rate=0.2, max_depth=6, subsample=0.8, score=0.9028571428571428, total=   0.2s\n",
      "[CV] colsample_bytree=0.4, gamma=0.25, learning_rate=0.2, max_depth=6, subsample=0.8 \n",
      "[CV]  colsample_bytree=0.4, gamma=0.25, learning_rate=0.2, max_depth=6, subsample=0.8, score=0.88, total=   0.2s\n",
      "[CV] colsample_bytree=0.4, gamma=0.25, learning_rate=0.2, max_depth=10, subsample=0.6 \n",
      "[CV]  colsample_bytree=0.4, gamma=0.25, learning_rate=0.2, max_depth=10, subsample=0.6, score=0.8942857142857142, total=   0.4s\n",
      "[CV] colsample_bytree=0.4, gamma=0.25, learning_rate=0.2, max_depth=10, subsample=0.6 \n",
      "[CV]  colsample_bytree=0.4, gamma=0.25, learning_rate=0.2, max_depth=10, subsample=0.6, score=0.8742857142857143, total=   0.4s\n",
      "[CV] colsample_bytree=0.4, gamma=0.25, learning_rate=0.2, max_depth=10, subsample=0.6 \n",
      "[CV]  colsample_bytree=0.4, gamma=0.25, learning_rate=0.2, max_depth=10, subsample=0.6, score=0.8828571428571429, total=   0.3s\n",
      "[CV] colsample_bytree=0.4, gamma=0.25, learning_rate=0.2, max_depth=10, subsample=0.6 \n",
      "[CV]  colsample_bytree=0.4, gamma=0.25, learning_rate=0.2, max_depth=10, subsample=0.6, score=0.8957142857142857, total=   0.3s\n",
      "[CV] colsample_bytree=0.4, gamma=0.25, learning_rate=0.2, max_depth=10, subsample=0.6 \n",
      "[CV]  colsample_bytree=0.4, gamma=0.25, learning_rate=0.2, max_depth=10, subsample=0.6, score=0.8842857142857142, total=   0.3s\n",
      "[CV] colsample_bytree=0.4, gamma=0.25, learning_rate=0.2, max_depth=10, subsample=0.7 \n",
      "[CV]  colsample_bytree=0.4, gamma=0.25, learning_rate=0.2, max_depth=10, subsample=0.7, score=0.8914285714285715, total=   0.3s\n",
      "[CV] colsample_bytree=0.4, gamma=0.25, learning_rate=0.2, max_depth=10, subsample=0.7 \n",
      "[CV]  colsample_bytree=0.4, gamma=0.25, learning_rate=0.2, max_depth=10, subsample=0.7, score=0.8828571428571429, total=   0.3s\n",
      "[CV] colsample_bytree=0.4, gamma=0.25, learning_rate=0.2, max_depth=10, subsample=0.7 \n",
      "[CV]  colsample_bytree=0.4, gamma=0.25, learning_rate=0.2, max_depth=10, subsample=0.7, score=0.8757142857142857, total=   0.3s\n",
      "[CV] colsample_bytree=0.4, gamma=0.25, learning_rate=0.2, max_depth=10, subsample=0.7 \n",
      "[CV]  colsample_bytree=0.4, gamma=0.25, learning_rate=0.2, max_depth=10, subsample=0.7, score=0.8914285714285715, total=   0.3s\n",
      "[CV] colsample_bytree=0.4, gamma=0.25, learning_rate=0.2, max_depth=10, subsample=0.7 \n",
      "[CV]  colsample_bytree=0.4, gamma=0.25, learning_rate=0.2, max_depth=10, subsample=0.7, score=0.8771428571428571, total=   0.3s\n",
      "[CV] colsample_bytree=0.4, gamma=0.25, learning_rate=0.2, max_depth=10, subsample=0.8 \n",
      "[CV]  colsample_bytree=0.4, gamma=0.25, learning_rate=0.2, max_depth=10, subsample=0.8, score=0.8842857142857142, total=   0.3s\n",
      "[CV] colsample_bytree=0.4, gamma=0.25, learning_rate=0.2, max_depth=10, subsample=0.8 \n"
     ]
    },
    {
     "name": "stdout",
     "output_type": "stream",
     "text": [
      "[CV]  colsample_bytree=0.4, gamma=0.25, learning_rate=0.2, max_depth=10, subsample=0.8, score=0.88, total=   0.3s\n",
      "[CV] colsample_bytree=0.4, gamma=0.25, learning_rate=0.2, max_depth=10, subsample=0.8 \n",
      "[CV]  colsample_bytree=0.4, gamma=0.25, learning_rate=0.2, max_depth=10, subsample=0.8, score=0.8842857142857142, total=   0.3s\n",
      "[CV] colsample_bytree=0.4, gamma=0.25, learning_rate=0.2, max_depth=10, subsample=0.8 \n",
      "[CV]  colsample_bytree=0.4, gamma=0.25, learning_rate=0.2, max_depth=10, subsample=0.8, score=0.8985714285714286, total=   0.3s\n",
      "[CV] colsample_bytree=0.4, gamma=0.25, learning_rate=0.2, max_depth=10, subsample=0.8 \n",
      "[CV]  colsample_bytree=0.4, gamma=0.25, learning_rate=0.2, max_depth=10, subsample=0.8, score=0.8828571428571429, total=   0.3s\n",
      "[CV] colsample_bytree=0.4, gamma=1, learning_rate=0.2, max_depth=3, subsample=0.6 \n",
      "[CV]  colsample_bytree=0.4, gamma=1, learning_rate=0.2, max_depth=3, subsample=0.6, score=0.9071428571428571, total=   0.1s\n",
      "[CV] colsample_bytree=0.4, gamma=1, learning_rate=0.2, max_depth=3, subsample=0.6 \n",
      "[CV]  colsample_bytree=0.4, gamma=1, learning_rate=0.2, max_depth=3, subsample=0.6, score=0.8928571428571429, total=   0.1s\n",
      "[CV] colsample_bytree=0.4, gamma=1, learning_rate=0.2, max_depth=3, subsample=0.6 \n",
      "[CV]  colsample_bytree=0.4, gamma=1, learning_rate=0.2, max_depth=3, subsample=0.6, score=0.8971428571428571, total=   0.1s\n",
      "[CV] colsample_bytree=0.4, gamma=1, learning_rate=0.2, max_depth=3, subsample=0.6 \n",
      "[CV]  colsample_bytree=0.4, gamma=1, learning_rate=0.2, max_depth=3, subsample=0.6, score=0.9042857142857142, total=   0.1s\n",
      "[CV] colsample_bytree=0.4, gamma=1, learning_rate=0.2, max_depth=3, subsample=0.6 \n",
      "[CV]  colsample_bytree=0.4, gamma=1, learning_rate=0.2, max_depth=3, subsample=0.6, score=0.8942857142857142, total=   0.1s\n",
      "[CV] colsample_bytree=0.4, gamma=1, learning_rate=0.2, max_depth=3, subsample=0.7 \n",
      "[CV]  colsample_bytree=0.4, gamma=1, learning_rate=0.2, max_depth=3, subsample=0.7, score=0.9014285714285715, total=   0.1s\n",
      "[CV] colsample_bytree=0.4, gamma=1, learning_rate=0.2, max_depth=3, subsample=0.7 \n",
      "[CV]  colsample_bytree=0.4, gamma=1, learning_rate=0.2, max_depth=3, subsample=0.7, score=0.8928571428571429, total=   0.1s\n",
      "[CV] colsample_bytree=0.4, gamma=1, learning_rate=0.2, max_depth=3, subsample=0.7 \n",
      "[CV]  colsample_bytree=0.4, gamma=1, learning_rate=0.2, max_depth=3, subsample=0.7, score=0.8928571428571429, total=   0.1s\n",
      "[CV] colsample_bytree=0.4, gamma=1, learning_rate=0.2, max_depth=3, subsample=0.7 \n",
      "[CV]  colsample_bytree=0.4, gamma=1, learning_rate=0.2, max_depth=3, subsample=0.7, score=0.9028571428571428, total=   0.1s\n",
      "[CV] colsample_bytree=0.4, gamma=1, learning_rate=0.2, max_depth=3, subsample=0.7 \n",
      "[CV]  colsample_bytree=0.4, gamma=1, learning_rate=0.2, max_depth=3, subsample=0.7, score=0.8971428571428571, total=   0.1s\n",
      "[CV] colsample_bytree=0.4, gamma=1, learning_rate=0.2, max_depth=3, subsample=0.8 \n",
      "[CV]  colsample_bytree=0.4, gamma=1, learning_rate=0.2, max_depth=3, subsample=0.8, score=0.9028571428571428, total=   0.1s\n",
      "[CV] colsample_bytree=0.4, gamma=1, learning_rate=0.2, max_depth=3, subsample=0.8 \n",
      "[CV]  colsample_bytree=0.4, gamma=1, learning_rate=0.2, max_depth=3, subsample=0.8, score=0.8914285714285715, total=   0.1s\n",
      "[CV] colsample_bytree=0.4, gamma=1, learning_rate=0.2, max_depth=3, subsample=0.8 \n",
      "[CV]  colsample_bytree=0.4, gamma=1, learning_rate=0.2, max_depth=3, subsample=0.8, score=0.8942857142857142, total=   0.1s\n",
      "[CV] colsample_bytree=0.4, gamma=1, learning_rate=0.2, max_depth=3, subsample=0.8 \n",
      "[CV]  colsample_bytree=0.4, gamma=1, learning_rate=0.2, max_depth=3, subsample=0.8, score=0.9057142857142857, total=   0.1s\n",
      "[CV] colsample_bytree=0.4, gamma=1, learning_rate=0.2, max_depth=3, subsample=0.8 \n",
      "[CV]  colsample_bytree=0.4, gamma=1, learning_rate=0.2, max_depth=3, subsample=0.8, score=0.9, total=   0.1s\n",
      "[CV] colsample_bytree=0.4, gamma=1, learning_rate=0.2, max_depth=6, subsample=0.6 \n",
      "[CV]  colsample_bytree=0.4, gamma=1, learning_rate=0.2, max_depth=6, subsample=0.6, score=0.9014285714285715, total=   0.2s\n",
      "[CV] colsample_bytree=0.4, gamma=1, learning_rate=0.2, max_depth=6, subsample=0.6 \n",
      "[CV]  colsample_bytree=0.4, gamma=1, learning_rate=0.2, max_depth=6, subsample=0.6, score=0.8814285714285715, total=   0.2s\n",
      "[CV] colsample_bytree=0.4, gamma=1, learning_rate=0.2, max_depth=6, subsample=0.6 \n",
      "[CV]  colsample_bytree=0.4, gamma=1, learning_rate=0.2, max_depth=6, subsample=0.6, score=0.8928571428571429, total=   0.2s\n",
      "[CV] colsample_bytree=0.4, gamma=1, learning_rate=0.2, max_depth=6, subsample=0.6 \n",
      "[CV]  colsample_bytree=0.4, gamma=1, learning_rate=0.2, max_depth=6, subsample=0.6, score=0.9, total=   0.2s\n",
      "[CV] colsample_bytree=0.4, gamma=1, learning_rate=0.2, max_depth=6, subsample=0.6 \n",
      "[CV]  colsample_bytree=0.4, gamma=1, learning_rate=0.2, max_depth=6, subsample=0.6, score=0.8857142857142857, total=   0.2s\n",
      "[CV] colsample_bytree=0.4, gamma=1, learning_rate=0.2, max_depth=6, subsample=0.7 \n",
      "[CV]  colsample_bytree=0.4, gamma=1, learning_rate=0.2, max_depth=6, subsample=0.7, score=0.9, total=   0.2s\n",
      "[CV] colsample_bytree=0.4, gamma=1, learning_rate=0.2, max_depth=6, subsample=0.7 \n",
      "[CV]  colsample_bytree=0.4, gamma=1, learning_rate=0.2, max_depth=6, subsample=0.7, score=0.8885714285714286, total=   0.2s\n",
      "[CV] colsample_bytree=0.4, gamma=1, learning_rate=0.2, max_depth=6, subsample=0.7 \n",
      "[CV]  colsample_bytree=0.4, gamma=1, learning_rate=0.2, max_depth=6, subsample=0.7, score=0.89, total=   0.2s\n",
      "[CV] colsample_bytree=0.4, gamma=1, learning_rate=0.2, max_depth=6, subsample=0.7 \n",
      "[CV]  colsample_bytree=0.4, gamma=1, learning_rate=0.2, max_depth=6, subsample=0.7, score=0.9, total=   0.2s\n",
      "[CV] colsample_bytree=0.4, gamma=1, learning_rate=0.2, max_depth=6, subsample=0.7 \n",
      "[CV]  colsample_bytree=0.4, gamma=1, learning_rate=0.2, max_depth=6, subsample=0.7, score=0.8885714285714286, total=   0.2s\n",
      "[CV] colsample_bytree=0.4, gamma=1, learning_rate=0.2, max_depth=6, subsample=0.8 \n",
      "[CV]  colsample_bytree=0.4, gamma=1, learning_rate=0.2, max_depth=6, subsample=0.8, score=0.9057142857142857, total=   0.2s\n",
      "[CV] colsample_bytree=0.4, gamma=1, learning_rate=0.2, max_depth=6, subsample=0.8 \n",
      "[CV]  colsample_bytree=0.4, gamma=1, learning_rate=0.2, max_depth=6, subsample=0.8, score=0.8857142857142857, total=   0.2s\n",
      "[CV] colsample_bytree=0.4, gamma=1, learning_rate=0.2, max_depth=6, subsample=0.8 \n",
      "[CV]  colsample_bytree=0.4, gamma=1, learning_rate=0.2, max_depth=6, subsample=0.8, score=0.8971428571428571, total=   0.2s\n",
      "[CV] colsample_bytree=0.4, gamma=1, learning_rate=0.2, max_depth=6, subsample=0.8 \n",
      "[CV]  colsample_bytree=0.4, gamma=1, learning_rate=0.2, max_depth=6, subsample=0.8, score=0.9, total=   0.2s\n",
      "[CV] colsample_bytree=0.4, gamma=1, learning_rate=0.2, max_depth=6, subsample=0.8 \n",
      "[CV]  colsample_bytree=0.4, gamma=1, learning_rate=0.2, max_depth=6, subsample=0.8, score=0.8828571428571429, total=   0.2s\n",
      "[CV] colsample_bytree=0.4, gamma=1, learning_rate=0.2, max_depth=10, subsample=0.6 \n",
      "[CV]  colsample_bytree=0.4, gamma=1, learning_rate=0.2, max_depth=10, subsample=0.6, score=0.8928571428571429, total=   0.4s\n",
      "[CV] colsample_bytree=0.4, gamma=1, learning_rate=0.2, max_depth=10, subsample=0.6 \n",
      "[CV]  colsample_bytree=0.4, gamma=1, learning_rate=0.2, max_depth=10, subsample=0.6, score=0.8757142857142857, total=   0.4s\n",
      "[CV] colsample_bytree=0.4, gamma=1, learning_rate=0.2, max_depth=10, subsample=0.6 \n",
      "[CV]  colsample_bytree=0.4, gamma=1, learning_rate=0.2, max_depth=10, subsample=0.6, score=0.8914285714285715, total=   0.4s\n",
      "[CV] colsample_bytree=0.4, gamma=1, learning_rate=0.2, max_depth=10, subsample=0.6 \n",
      "[CV]  colsample_bytree=0.4, gamma=1, learning_rate=0.2, max_depth=10, subsample=0.6, score=0.9028571428571428, total=   0.4s\n",
      "[CV] colsample_bytree=0.4, gamma=1, learning_rate=0.2, max_depth=10, subsample=0.6 \n",
      "[CV]  colsample_bytree=0.4, gamma=1, learning_rate=0.2, max_depth=10, subsample=0.6, score=0.89, total=   0.3s\n",
      "[CV] colsample_bytree=0.4, gamma=1, learning_rate=0.2, max_depth=10, subsample=0.7 \n",
      "[CV]  colsample_bytree=0.4, gamma=1, learning_rate=0.2, max_depth=10, subsample=0.7, score=0.8914285714285715, total=   0.4s\n",
      "[CV] colsample_bytree=0.4, gamma=1, learning_rate=0.2, max_depth=10, subsample=0.7 \n"
     ]
    },
    {
     "name": "stdout",
     "output_type": "stream",
     "text": [
      "[CV]  colsample_bytree=0.4, gamma=1, learning_rate=0.2, max_depth=10, subsample=0.7, score=0.88, total=   0.4s\n",
      "[CV] colsample_bytree=0.4, gamma=1, learning_rate=0.2, max_depth=10, subsample=0.7 \n",
      "[CV]  colsample_bytree=0.4, gamma=1, learning_rate=0.2, max_depth=10, subsample=0.7, score=0.8885714285714286, total=   0.3s\n",
      "[CV] colsample_bytree=0.4, gamma=1, learning_rate=0.2, max_depth=10, subsample=0.7 \n",
      "[CV]  colsample_bytree=0.4, gamma=1, learning_rate=0.2, max_depth=10, subsample=0.7, score=0.9028571428571428, total=   0.3s\n",
      "[CV] colsample_bytree=0.4, gamma=1, learning_rate=0.2, max_depth=10, subsample=0.7 \n",
      "[CV]  colsample_bytree=0.4, gamma=1, learning_rate=0.2, max_depth=10, subsample=0.7, score=0.8885714285714286, total=   0.3s\n",
      "[CV] colsample_bytree=0.4, gamma=1, learning_rate=0.2, max_depth=10, subsample=0.8 \n",
      "[CV]  colsample_bytree=0.4, gamma=1, learning_rate=0.2, max_depth=10, subsample=0.8, score=0.89, total=   0.3s\n",
      "[CV] colsample_bytree=0.4, gamma=1, learning_rate=0.2, max_depth=10, subsample=0.8 \n",
      "[CV]  colsample_bytree=0.4, gamma=1, learning_rate=0.2, max_depth=10, subsample=0.8, score=0.8785714285714286, total=   0.3s\n",
      "[CV] colsample_bytree=0.4, gamma=1, learning_rate=0.2, max_depth=10, subsample=0.8 \n",
      "[CV]  colsample_bytree=0.4, gamma=1, learning_rate=0.2, max_depth=10, subsample=0.8, score=0.8914285714285715, total=   0.3s\n",
      "[CV] colsample_bytree=0.4, gamma=1, learning_rate=0.2, max_depth=10, subsample=0.8 \n",
      "[CV]  colsample_bytree=0.4, gamma=1, learning_rate=0.2, max_depth=10, subsample=0.8, score=0.8942857142857142, total=   0.4s\n",
      "[CV] colsample_bytree=0.4, gamma=1, learning_rate=0.2, max_depth=10, subsample=0.8 \n",
      "[CV]  colsample_bytree=0.4, gamma=1, learning_rate=0.2, max_depth=10, subsample=0.8, score=0.8871428571428571, total=   0.4s\n",
      "[CV] colsample_bytree=0.4, gamma=1.5, learning_rate=0.2, max_depth=3, subsample=0.6 \n",
      "[CV]  colsample_bytree=0.4, gamma=1.5, learning_rate=0.2, max_depth=3, subsample=0.6, score=0.9014285714285715, total=   0.2s\n",
      "[CV] colsample_bytree=0.4, gamma=1.5, learning_rate=0.2, max_depth=3, subsample=0.6 \n",
      "[CV]  colsample_bytree=0.4, gamma=1.5, learning_rate=0.2, max_depth=3, subsample=0.6, score=0.8928571428571429, total=   0.2s\n",
      "[CV] colsample_bytree=0.4, gamma=1.5, learning_rate=0.2, max_depth=3, subsample=0.6 \n",
      "[CV]  colsample_bytree=0.4, gamma=1.5, learning_rate=0.2, max_depth=3, subsample=0.6, score=0.8985714285714286, total=   0.2s\n",
      "[CV] colsample_bytree=0.4, gamma=1.5, learning_rate=0.2, max_depth=3, subsample=0.6 \n",
      "[CV]  colsample_bytree=0.4, gamma=1.5, learning_rate=0.2, max_depth=3, subsample=0.6, score=0.8985714285714286, total=   0.2s\n",
      "[CV] colsample_bytree=0.4, gamma=1.5, learning_rate=0.2, max_depth=3, subsample=0.6 \n",
      "[CV]  colsample_bytree=0.4, gamma=1.5, learning_rate=0.2, max_depth=3, subsample=0.6, score=0.8971428571428571, total=   0.2s\n",
      "[CV] colsample_bytree=0.4, gamma=1.5, learning_rate=0.2, max_depth=3, subsample=0.7 \n",
      "[CV]  colsample_bytree=0.4, gamma=1.5, learning_rate=0.2, max_depth=3, subsample=0.7, score=0.9042857142857142, total=   0.2s\n",
      "[CV] colsample_bytree=0.4, gamma=1.5, learning_rate=0.2, max_depth=3, subsample=0.7 \n",
      "[CV]  colsample_bytree=0.4, gamma=1.5, learning_rate=0.2, max_depth=3, subsample=0.7, score=0.8914285714285715, total=   0.2s\n",
      "[CV] colsample_bytree=0.4, gamma=1.5, learning_rate=0.2, max_depth=3, subsample=0.7 \n",
      "[CV]  colsample_bytree=0.4, gamma=1.5, learning_rate=0.2, max_depth=3, subsample=0.7, score=0.8957142857142857, total=   0.2s\n",
      "[CV] colsample_bytree=0.4, gamma=1.5, learning_rate=0.2, max_depth=3, subsample=0.7 \n",
      "[CV]  colsample_bytree=0.4, gamma=1.5, learning_rate=0.2, max_depth=3, subsample=0.7, score=0.9014285714285715, total=   0.2s\n",
      "[CV] colsample_bytree=0.4, gamma=1.5, learning_rate=0.2, max_depth=3, subsample=0.7 \n",
      "[CV]  colsample_bytree=0.4, gamma=1.5, learning_rate=0.2, max_depth=3, subsample=0.7, score=0.8971428571428571, total=   0.2s\n",
      "[CV] colsample_bytree=0.4, gamma=1.5, learning_rate=0.2, max_depth=3, subsample=0.8 \n",
      "[CV]  colsample_bytree=0.4, gamma=1.5, learning_rate=0.2, max_depth=3, subsample=0.8, score=0.9071428571428571, total=   0.1s\n",
      "[CV] colsample_bytree=0.4, gamma=1.5, learning_rate=0.2, max_depth=3, subsample=0.8 \n",
      "[CV]  colsample_bytree=0.4, gamma=1.5, learning_rate=0.2, max_depth=3, subsample=0.8, score=0.8885714285714286, total=   0.1s\n",
      "[CV] colsample_bytree=0.4, gamma=1.5, learning_rate=0.2, max_depth=3, subsample=0.8 \n",
      "[CV]  colsample_bytree=0.4, gamma=1.5, learning_rate=0.2, max_depth=3, subsample=0.8, score=0.8942857142857142, total=   0.1s\n",
      "[CV] colsample_bytree=0.4, gamma=1.5, learning_rate=0.2, max_depth=3, subsample=0.8 \n",
      "[CV]  colsample_bytree=0.4, gamma=1.5, learning_rate=0.2, max_depth=3, subsample=0.8, score=0.9028571428571428, total=   0.1s\n",
      "[CV] colsample_bytree=0.4, gamma=1.5, learning_rate=0.2, max_depth=3, subsample=0.8 \n",
      "[CV]  colsample_bytree=0.4, gamma=1.5, learning_rate=0.2, max_depth=3, subsample=0.8, score=0.8985714285714286, total=   0.1s\n",
      "[CV] colsample_bytree=0.4, gamma=1.5, learning_rate=0.2, max_depth=6, subsample=0.6 \n",
      "[CV]  colsample_bytree=0.4, gamma=1.5, learning_rate=0.2, max_depth=6, subsample=0.6, score=0.8957142857142857, total=   0.2s\n",
      "[CV] colsample_bytree=0.4, gamma=1.5, learning_rate=0.2, max_depth=6, subsample=0.6 \n",
      "[CV]  colsample_bytree=0.4, gamma=1.5, learning_rate=0.2, max_depth=6, subsample=0.6, score=0.8785714285714286, total=   0.2s\n",
      "[CV] colsample_bytree=0.4, gamma=1.5, learning_rate=0.2, max_depth=6, subsample=0.6 \n",
      "[CV]  colsample_bytree=0.4, gamma=1.5, learning_rate=0.2, max_depth=6, subsample=0.6, score=0.8914285714285715, total=   0.2s\n",
      "[CV] colsample_bytree=0.4, gamma=1.5, learning_rate=0.2, max_depth=6, subsample=0.6 \n",
      "[CV]  colsample_bytree=0.4, gamma=1.5, learning_rate=0.2, max_depth=6, subsample=0.6, score=0.9, total=   0.2s\n",
      "[CV] colsample_bytree=0.4, gamma=1.5, learning_rate=0.2, max_depth=6, subsample=0.6 \n",
      "[CV]  colsample_bytree=0.4, gamma=1.5, learning_rate=0.2, max_depth=6, subsample=0.6, score=0.8871428571428571, total=   0.2s\n",
      "[CV] colsample_bytree=0.4, gamma=1.5, learning_rate=0.2, max_depth=6, subsample=0.7 \n",
      "[CV]  colsample_bytree=0.4, gamma=1.5, learning_rate=0.2, max_depth=6, subsample=0.7, score=0.8971428571428571, total=   0.2s\n",
      "[CV] colsample_bytree=0.4, gamma=1.5, learning_rate=0.2, max_depth=6, subsample=0.7 \n",
      "[CV]  colsample_bytree=0.4, gamma=1.5, learning_rate=0.2, max_depth=6, subsample=0.7, score=0.8885714285714286, total=   0.2s\n",
      "[CV] colsample_bytree=0.4, gamma=1.5, learning_rate=0.2, max_depth=6, subsample=0.7 \n",
      "[CV]  colsample_bytree=0.4, gamma=1.5, learning_rate=0.2, max_depth=6, subsample=0.7, score=0.8942857142857142, total=   0.2s\n",
      "[CV] colsample_bytree=0.4, gamma=1.5, learning_rate=0.2, max_depth=6, subsample=0.7 \n",
      "[CV]  colsample_bytree=0.4, gamma=1.5, learning_rate=0.2, max_depth=6, subsample=0.7, score=0.91, total=   0.2s\n",
      "[CV] colsample_bytree=0.4, gamma=1.5, learning_rate=0.2, max_depth=6, subsample=0.7 \n",
      "[CV]  colsample_bytree=0.4, gamma=1.5, learning_rate=0.2, max_depth=6, subsample=0.7, score=0.89, total=   0.2s\n",
      "[CV] colsample_bytree=0.4, gamma=1.5, learning_rate=0.2, max_depth=6, subsample=0.8 \n",
      "[CV]  colsample_bytree=0.4, gamma=1.5, learning_rate=0.2, max_depth=6, subsample=0.8, score=0.9057142857142857, total=   0.2s\n",
      "[CV] colsample_bytree=0.4, gamma=1.5, learning_rate=0.2, max_depth=6, subsample=0.8 \n",
      "[CV]  colsample_bytree=0.4, gamma=1.5, learning_rate=0.2, max_depth=6, subsample=0.8, score=0.8885714285714286, total=   0.2s\n",
      "[CV] colsample_bytree=0.4, gamma=1.5, learning_rate=0.2, max_depth=6, subsample=0.8 \n",
      "[CV]  colsample_bytree=0.4, gamma=1.5, learning_rate=0.2, max_depth=6, subsample=0.8, score=0.8985714285714286, total=   0.2s\n",
      "[CV] colsample_bytree=0.4, gamma=1.5, learning_rate=0.2, max_depth=6, subsample=0.8 \n",
      "[CV]  colsample_bytree=0.4, gamma=1.5, learning_rate=0.2, max_depth=6, subsample=0.8, score=0.9057142857142857, total=   0.2s\n",
      "[CV] colsample_bytree=0.4, gamma=1.5, learning_rate=0.2, max_depth=6, subsample=0.8 \n",
      "[CV]  colsample_bytree=0.4, gamma=1.5, learning_rate=0.2, max_depth=6, subsample=0.8, score=0.8857142857142857, total=   0.2s\n",
      "[CV] colsample_bytree=0.4, gamma=1.5, learning_rate=0.2, max_depth=10, subsample=0.6 \n",
      "[CV]  colsample_bytree=0.4, gamma=1.5, learning_rate=0.2, max_depth=10, subsample=0.6, score=0.8857142857142857, total=   0.3s\n",
      "[CV] colsample_bytree=0.4, gamma=1.5, learning_rate=0.2, max_depth=10, subsample=0.6 \n"
     ]
    },
    {
     "name": "stdout",
     "output_type": "stream",
     "text": [
      "[CV]  colsample_bytree=0.4, gamma=1.5, learning_rate=0.2, max_depth=10, subsample=0.6, score=0.8742857142857143, total=   0.3s\n",
      "[CV] colsample_bytree=0.4, gamma=1.5, learning_rate=0.2, max_depth=10, subsample=0.6 \n",
      "[CV]  colsample_bytree=0.4, gamma=1.5, learning_rate=0.2, max_depth=10, subsample=0.6, score=0.8957142857142857, total=   0.3s\n",
      "[CV] colsample_bytree=0.4, gamma=1.5, learning_rate=0.2, max_depth=10, subsample=0.6 \n",
      "[CV]  colsample_bytree=0.4, gamma=1.5, learning_rate=0.2, max_depth=10, subsample=0.6, score=0.8985714285714286, total=   0.3s\n",
      "[CV] colsample_bytree=0.4, gamma=1.5, learning_rate=0.2, max_depth=10, subsample=0.6 \n",
      "[CV]  colsample_bytree=0.4, gamma=1.5, learning_rate=0.2, max_depth=10, subsample=0.6, score=0.8928571428571429, total=   0.3s\n",
      "[CV] colsample_bytree=0.4, gamma=1.5, learning_rate=0.2, max_depth=10, subsample=0.7 \n",
      "[CV]  colsample_bytree=0.4, gamma=1.5, learning_rate=0.2, max_depth=10, subsample=0.7, score=0.8928571428571429, total=   0.3s\n",
      "[CV] colsample_bytree=0.4, gamma=1.5, learning_rate=0.2, max_depth=10, subsample=0.7 \n",
      "[CV]  colsample_bytree=0.4, gamma=1.5, learning_rate=0.2, max_depth=10, subsample=0.7, score=0.88, total=   0.3s\n",
      "[CV] colsample_bytree=0.4, gamma=1.5, learning_rate=0.2, max_depth=10, subsample=0.7 \n",
      "[CV]  colsample_bytree=0.4, gamma=1.5, learning_rate=0.2, max_depth=10, subsample=0.7, score=0.8928571428571429, total=   0.3s\n",
      "[CV] colsample_bytree=0.4, gamma=1.5, learning_rate=0.2, max_depth=10, subsample=0.7 \n",
      "[CV]  colsample_bytree=0.4, gamma=1.5, learning_rate=0.2, max_depth=10, subsample=0.7, score=0.9085714285714286, total=   0.3s\n",
      "[CV] colsample_bytree=0.4, gamma=1.5, learning_rate=0.2, max_depth=10, subsample=0.7 \n",
      "[CV]  colsample_bytree=0.4, gamma=1.5, learning_rate=0.2, max_depth=10, subsample=0.7, score=0.89, total=   0.3s\n",
      "[CV] colsample_bytree=0.4, gamma=1.5, learning_rate=0.2, max_depth=10, subsample=0.8 \n",
      "[CV]  colsample_bytree=0.4, gamma=1.5, learning_rate=0.2, max_depth=10, subsample=0.8, score=0.8914285714285715, total=   0.3s\n",
      "[CV] colsample_bytree=0.4, gamma=1.5, learning_rate=0.2, max_depth=10, subsample=0.8 \n",
      "[CV]  colsample_bytree=0.4, gamma=1.5, learning_rate=0.2, max_depth=10, subsample=0.8, score=0.88, total=   0.3s\n",
      "[CV] colsample_bytree=0.4, gamma=1.5, learning_rate=0.2, max_depth=10, subsample=0.8 \n",
      "[CV]  colsample_bytree=0.4, gamma=1.5, learning_rate=0.2, max_depth=10, subsample=0.8, score=0.8957142857142857, total=   0.3s\n",
      "[CV] colsample_bytree=0.4, gamma=1.5, learning_rate=0.2, max_depth=10, subsample=0.8 \n",
      "[CV]  colsample_bytree=0.4, gamma=1.5, learning_rate=0.2, max_depth=10, subsample=0.8, score=0.8985714285714286, total=   0.3s\n",
      "[CV] colsample_bytree=0.4, gamma=1.5, learning_rate=0.2, max_depth=10, subsample=0.8 \n",
      "[CV]  colsample_bytree=0.4, gamma=1.5, learning_rate=0.2, max_depth=10, subsample=0.8, score=0.89, total=   0.3s\n",
      "[CV] colsample_bytree=0.6, gamma=0.25, learning_rate=0.2, max_depth=3, subsample=0.6 \n",
      "[CV]  colsample_bytree=0.6, gamma=0.25, learning_rate=0.2, max_depth=3, subsample=0.6, score=0.9085714285714286, total=   0.1s\n",
      "[CV] colsample_bytree=0.6, gamma=0.25, learning_rate=0.2, max_depth=3, subsample=0.6 \n",
      "[CV]  colsample_bytree=0.6, gamma=0.25, learning_rate=0.2, max_depth=3, subsample=0.6, score=0.89, total=   0.1s\n",
      "[CV] colsample_bytree=0.6, gamma=0.25, learning_rate=0.2, max_depth=3, subsample=0.6 \n",
      "[CV]  colsample_bytree=0.6, gamma=0.25, learning_rate=0.2, max_depth=3, subsample=0.6, score=0.8971428571428571, total=   0.1s\n",
      "[CV] colsample_bytree=0.6, gamma=0.25, learning_rate=0.2, max_depth=3, subsample=0.6 \n",
      "[CV]  colsample_bytree=0.6, gamma=0.25, learning_rate=0.2, max_depth=3, subsample=0.6, score=0.9057142857142857, total=   0.1s\n",
      "[CV] colsample_bytree=0.6, gamma=0.25, learning_rate=0.2, max_depth=3, subsample=0.6 \n",
      "[CV]  colsample_bytree=0.6, gamma=0.25, learning_rate=0.2, max_depth=3, subsample=0.6, score=0.9, total=   0.1s\n",
      "[CV] colsample_bytree=0.6, gamma=0.25, learning_rate=0.2, max_depth=3, subsample=0.7 \n",
      "[CV]  colsample_bytree=0.6, gamma=0.25, learning_rate=0.2, max_depth=3, subsample=0.7, score=0.9057142857142857, total=   0.1s\n",
      "[CV] colsample_bytree=0.6, gamma=0.25, learning_rate=0.2, max_depth=3, subsample=0.7 \n",
      "[CV]  colsample_bytree=0.6, gamma=0.25, learning_rate=0.2, max_depth=3, subsample=0.7, score=0.8914285714285715, total=   0.1s\n",
      "[CV] colsample_bytree=0.6, gamma=0.25, learning_rate=0.2, max_depth=3, subsample=0.7 \n",
      "[CV]  colsample_bytree=0.6, gamma=0.25, learning_rate=0.2, max_depth=3, subsample=0.7, score=0.8928571428571429, total=   0.1s\n",
      "[CV] colsample_bytree=0.6, gamma=0.25, learning_rate=0.2, max_depth=3, subsample=0.7 \n",
      "[CV]  colsample_bytree=0.6, gamma=0.25, learning_rate=0.2, max_depth=3, subsample=0.7, score=0.9042857142857142, total=   0.1s\n",
      "[CV] colsample_bytree=0.6, gamma=0.25, learning_rate=0.2, max_depth=3, subsample=0.7 \n",
      "[CV]  colsample_bytree=0.6, gamma=0.25, learning_rate=0.2, max_depth=3, subsample=0.7, score=0.8971428571428571, total=   0.1s\n",
      "[CV] colsample_bytree=0.6, gamma=0.25, learning_rate=0.2, max_depth=3, subsample=0.8 \n",
      "[CV]  colsample_bytree=0.6, gamma=0.25, learning_rate=0.2, max_depth=3, subsample=0.8, score=0.91, total=   0.1s\n",
      "[CV] colsample_bytree=0.6, gamma=0.25, learning_rate=0.2, max_depth=3, subsample=0.8 \n",
      "[CV]  colsample_bytree=0.6, gamma=0.25, learning_rate=0.2, max_depth=3, subsample=0.8, score=0.89, total=   0.1s\n",
      "[CV] colsample_bytree=0.6, gamma=0.25, learning_rate=0.2, max_depth=3, subsample=0.8 \n",
      "[CV]  colsample_bytree=0.6, gamma=0.25, learning_rate=0.2, max_depth=3, subsample=0.8, score=0.8971428571428571, total=   0.1s\n",
      "[CV] colsample_bytree=0.6, gamma=0.25, learning_rate=0.2, max_depth=3, subsample=0.8 \n",
      "[CV]  colsample_bytree=0.6, gamma=0.25, learning_rate=0.2, max_depth=3, subsample=0.8, score=0.9042857142857142, total=   0.1s\n",
      "[CV] colsample_bytree=0.6, gamma=0.25, learning_rate=0.2, max_depth=3, subsample=0.8 \n",
      "[CV]  colsample_bytree=0.6, gamma=0.25, learning_rate=0.2, max_depth=3, subsample=0.8, score=0.8971428571428571, total=   0.1s\n",
      "[CV] colsample_bytree=0.6, gamma=0.25, learning_rate=0.2, max_depth=6, subsample=0.6 \n",
      "[CV]  colsample_bytree=0.6, gamma=0.25, learning_rate=0.2, max_depth=6, subsample=0.6, score=0.9, total=   0.3s\n",
      "[CV] colsample_bytree=0.6, gamma=0.25, learning_rate=0.2, max_depth=6, subsample=0.6 \n",
      "[CV]  colsample_bytree=0.6, gamma=0.25, learning_rate=0.2, max_depth=6, subsample=0.6, score=0.88, total=   0.3s\n",
      "[CV] colsample_bytree=0.6, gamma=0.25, learning_rate=0.2, max_depth=6, subsample=0.6 \n",
      "[CV]  colsample_bytree=0.6, gamma=0.25, learning_rate=0.2, max_depth=6, subsample=0.6, score=0.8957142857142857, total=   0.3s\n",
      "[CV] colsample_bytree=0.6, gamma=0.25, learning_rate=0.2, max_depth=6, subsample=0.6 \n",
      "[CV]  colsample_bytree=0.6, gamma=0.25, learning_rate=0.2, max_depth=6, subsample=0.6, score=0.8971428571428571, total=   0.3s\n",
      "[CV] colsample_bytree=0.6, gamma=0.25, learning_rate=0.2, max_depth=6, subsample=0.6 \n",
      "[CV]  colsample_bytree=0.6, gamma=0.25, learning_rate=0.2, max_depth=6, subsample=0.6, score=0.8842857142857142, total=   0.3s\n",
      "[CV] colsample_bytree=0.6, gamma=0.25, learning_rate=0.2, max_depth=6, subsample=0.7 \n",
      "[CV]  colsample_bytree=0.6, gamma=0.25, learning_rate=0.2, max_depth=6, subsample=0.7, score=0.9028571428571428, total=   0.3s\n",
      "[CV] colsample_bytree=0.6, gamma=0.25, learning_rate=0.2, max_depth=6, subsample=0.7 \n",
      "[CV]  colsample_bytree=0.6, gamma=0.25, learning_rate=0.2, max_depth=6, subsample=0.7, score=0.8757142857142857, total=   0.3s\n",
      "[CV] colsample_bytree=0.6, gamma=0.25, learning_rate=0.2, max_depth=6, subsample=0.7 \n",
      "[CV]  colsample_bytree=0.6, gamma=0.25, learning_rate=0.2, max_depth=6, subsample=0.7, score=0.8957142857142857, total=   0.3s\n",
      "[CV] colsample_bytree=0.6, gamma=0.25, learning_rate=0.2, max_depth=6, subsample=0.7 \n",
      "[CV]  colsample_bytree=0.6, gamma=0.25, learning_rate=0.2, max_depth=6, subsample=0.7, score=0.9057142857142857, total=   0.3s\n",
      "[CV] colsample_bytree=0.6, gamma=0.25, learning_rate=0.2, max_depth=6, subsample=0.7 \n",
      "[CV]  colsample_bytree=0.6, gamma=0.25, learning_rate=0.2, max_depth=6, subsample=0.7, score=0.8828571428571429, total=   0.3s\n",
      "[CV] colsample_bytree=0.6, gamma=0.25, learning_rate=0.2, max_depth=6, subsample=0.8 \n",
      "[CV]  colsample_bytree=0.6, gamma=0.25, learning_rate=0.2, max_depth=6, subsample=0.8, score=0.9071428571428571, total=   0.2s\n",
      "[CV] colsample_bytree=0.6, gamma=0.25, learning_rate=0.2, max_depth=6, subsample=0.8 \n"
     ]
    },
    {
     "name": "stdout",
     "output_type": "stream",
     "text": [
      "[CV]  colsample_bytree=0.6, gamma=0.25, learning_rate=0.2, max_depth=6, subsample=0.8, score=0.8757142857142857, total=   0.2s\n",
      "[CV] colsample_bytree=0.6, gamma=0.25, learning_rate=0.2, max_depth=6, subsample=0.8 \n",
      "[CV]  colsample_bytree=0.6, gamma=0.25, learning_rate=0.2, max_depth=6, subsample=0.8, score=0.8971428571428571, total=   0.2s\n",
      "[CV] colsample_bytree=0.6, gamma=0.25, learning_rate=0.2, max_depth=6, subsample=0.8 \n",
      "[CV]  colsample_bytree=0.6, gamma=0.25, learning_rate=0.2, max_depth=6, subsample=0.8, score=0.9, total=   0.2s\n",
      "[CV] colsample_bytree=0.6, gamma=0.25, learning_rate=0.2, max_depth=6, subsample=0.8 \n",
      "[CV]  colsample_bytree=0.6, gamma=0.25, learning_rate=0.2, max_depth=6, subsample=0.8, score=0.8857142857142857, total=   0.2s\n",
      "[CV] colsample_bytree=0.6, gamma=0.25, learning_rate=0.2, max_depth=10, subsample=0.6 \n",
      "[CV]  colsample_bytree=0.6, gamma=0.25, learning_rate=0.2, max_depth=10, subsample=0.6, score=0.8985714285714286, total=   0.4s\n",
      "[CV] colsample_bytree=0.6, gamma=0.25, learning_rate=0.2, max_depth=10, subsample=0.6 \n",
      "[CV]  colsample_bytree=0.6, gamma=0.25, learning_rate=0.2, max_depth=10, subsample=0.6, score=0.8671428571428571, total=   0.4s\n",
      "[CV] colsample_bytree=0.6, gamma=0.25, learning_rate=0.2, max_depth=10, subsample=0.6 \n",
      "[CV]  colsample_bytree=0.6, gamma=0.25, learning_rate=0.2, max_depth=10, subsample=0.6, score=0.8828571428571429, total=   0.4s\n",
      "[CV] colsample_bytree=0.6, gamma=0.25, learning_rate=0.2, max_depth=10, subsample=0.6 \n",
      "[CV]  colsample_bytree=0.6, gamma=0.25, learning_rate=0.2, max_depth=10, subsample=0.6, score=0.8957142857142857, total=   0.4s\n",
      "[CV] colsample_bytree=0.6, gamma=0.25, learning_rate=0.2, max_depth=10, subsample=0.6 \n",
      "[CV]  colsample_bytree=0.6, gamma=0.25, learning_rate=0.2, max_depth=10, subsample=0.6, score=0.88, total=   0.4s\n",
      "[CV] colsample_bytree=0.6, gamma=0.25, learning_rate=0.2, max_depth=10, subsample=0.7 \n",
      "[CV]  colsample_bytree=0.6, gamma=0.25, learning_rate=0.2, max_depth=10, subsample=0.7, score=0.8914285714285715, total=   0.4s\n",
      "[CV] colsample_bytree=0.6, gamma=0.25, learning_rate=0.2, max_depth=10, subsample=0.7 \n",
      "[CV]  colsample_bytree=0.6, gamma=0.25, learning_rate=0.2, max_depth=10, subsample=0.7, score=0.8714285714285714, total=   0.4s\n",
      "[CV] colsample_bytree=0.6, gamma=0.25, learning_rate=0.2, max_depth=10, subsample=0.7 \n",
      "[CV]  colsample_bytree=0.6, gamma=0.25, learning_rate=0.2, max_depth=10, subsample=0.7, score=0.8828571428571429, total=   0.4s\n",
      "[CV] colsample_bytree=0.6, gamma=0.25, learning_rate=0.2, max_depth=10, subsample=0.7 \n",
      "[CV]  colsample_bytree=0.6, gamma=0.25, learning_rate=0.2, max_depth=10, subsample=0.7, score=0.89, total=   0.4s\n",
      "[CV] colsample_bytree=0.6, gamma=0.25, learning_rate=0.2, max_depth=10, subsample=0.7 \n",
      "[CV]  colsample_bytree=0.6, gamma=0.25, learning_rate=0.2, max_depth=10, subsample=0.7, score=0.8857142857142857, total=   0.4s\n",
      "[CV] colsample_bytree=0.6, gamma=0.25, learning_rate=0.2, max_depth=10, subsample=0.8 \n",
      "[CV]  colsample_bytree=0.6, gamma=0.25, learning_rate=0.2, max_depth=10, subsample=0.8, score=0.8914285714285715, total=   0.4s\n",
      "[CV] colsample_bytree=0.6, gamma=0.25, learning_rate=0.2, max_depth=10, subsample=0.8 \n",
      "[CV]  colsample_bytree=0.6, gamma=0.25, learning_rate=0.2, max_depth=10, subsample=0.8, score=0.8728571428571429, total=   0.4s\n",
      "[CV] colsample_bytree=0.6, gamma=0.25, learning_rate=0.2, max_depth=10, subsample=0.8 \n",
      "[CV]  colsample_bytree=0.6, gamma=0.25, learning_rate=0.2, max_depth=10, subsample=0.8, score=0.8885714285714286, total=   0.4s\n",
      "[CV] colsample_bytree=0.6, gamma=0.25, learning_rate=0.2, max_depth=10, subsample=0.8 \n",
      "[CV]  colsample_bytree=0.6, gamma=0.25, learning_rate=0.2, max_depth=10, subsample=0.8, score=0.8971428571428571, total=   0.4s\n",
      "[CV] colsample_bytree=0.6, gamma=0.25, learning_rate=0.2, max_depth=10, subsample=0.8 \n",
      "[CV]  colsample_bytree=0.6, gamma=0.25, learning_rate=0.2, max_depth=10, subsample=0.8, score=0.8885714285714286, total=   0.4s\n",
      "[CV] colsample_bytree=0.6, gamma=1, learning_rate=0.2, max_depth=3, subsample=0.6 \n",
      "[CV]  colsample_bytree=0.6, gamma=1, learning_rate=0.2, max_depth=3, subsample=0.6, score=0.9071428571428571, total=   0.1s\n",
      "[CV] colsample_bytree=0.6, gamma=1, learning_rate=0.2, max_depth=3, subsample=0.6 \n",
      "[CV]  colsample_bytree=0.6, gamma=1, learning_rate=0.2, max_depth=3, subsample=0.6, score=0.89, total=   0.1s\n",
      "[CV] colsample_bytree=0.6, gamma=1, learning_rate=0.2, max_depth=3, subsample=0.6 \n",
      "[CV]  colsample_bytree=0.6, gamma=1, learning_rate=0.2, max_depth=3, subsample=0.6, score=0.8985714285714286, total=   0.1s\n",
      "[CV] colsample_bytree=0.6, gamma=1, learning_rate=0.2, max_depth=3, subsample=0.6 \n",
      "[CV]  colsample_bytree=0.6, gamma=1, learning_rate=0.2, max_depth=3, subsample=0.6, score=0.9028571428571428, total=   0.1s\n",
      "[CV] colsample_bytree=0.6, gamma=1, learning_rate=0.2, max_depth=3, subsample=0.6 \n",
      "[CV]  colsample_bytree=0.6, gamma=1, learning_rate=0.2, max_depth=3, subsample=0.6, score=0.8985714285714286, total=   0.1s\n",
      "[CV] colsample_bytree=0.6, gamma=1, learning_rate=0.2, max_depth=3, subsample=0.7 \n",
      "[CV]  colsample_bytree=0.6, gamma=1, learning_rate=0.2, max_depth=3, subsample=0.7, score=0.9085714285714286, total=   0.1s\n",
      "[CV] colsample_bytree=0.6, gamma=1, learning_rate=0.2, max_depth=3, subsample=0.7 \n",
      "[CV]  colsample_bytree=0.6, gamma=1, learning_rate=0.2, max_depth=3, subsample=0.7, score=0.89, total=   0.1s\n",
      "[CV] colsample_bytree=0.6, gamma=1, learning_rate=0.2, max_depth=3, subsample=0.7 \n",
      "[CV]  colsample_bytree=0.6, gamma=1, learning_rate=0.2, max_depth=3, subsample=0.7, score=0.9014285714285715, total=   0.1s\n",
      "[CV] colsample_bytree=0.6, gamma=1, learning_rate=0.2, max_depth=3, subsample=0.7 \n",
      "[CV]  colsample_bytree=0.6, gamma=1, learning_rate=0.2, max_depth=3, subsample=0.7, score=0.9057142857142857, total=   0.1s\n",
      "[CV] colsample_bytree=0.6, gamma=1, learning_rate=0.2, max_depth=3, subsample=0.7 \n",
      "[CV]  colsample_bytree=0.6, gamma=1, learning_rate=0.2, max_depth=3, subsample=0.7, score=0.8971428571428571, total=   0.1s\n",
      "[CV] colsample_bytree=0.6, gamma=1, learning_rate=0.2, max_depth=3, subsample=0.8 \n",
      "[CV]  colsample_bytree=0.6, gamma=1, learning_rate=0.2, max_depth=3, subsample=0.8, score=0.9071428571428571, total=   0.2s\n",
      "[CV] colsample_bytree=0.6, gamma=1, learning_rate=0.2, max_depth=3, subsample=0.8 \n",
      "[CV]  colsample_bytree=0.6, gamma=1, learning_rate=0.2, max_depth=3, subsample=0.8, score=0.8942857142857142, total=   0.1s\n",
      "[CV] colsample_bytree=0.6, gamma=1, learning_rate=0.2, max_depth=3, subsample=0.8 \n",
      "[CV]  colsample_bytree=0.6, gamma=1, learning_rate=0.2, max_depth=3, subsample=0.8, score=0.8971428571428571, total=   0.1s\n",
      "[CV] colsample_bytree=0.6, gamma=1, learning_rate=0.2, max_depth=3, subsample=0.8 \n",
      "[CV]  colsample_bytree=0.6, gamma=1, learning_rate=0.2, max_depth=3, subsample=0.8, score=0.9042857142857142, total=   0.1s\n",
      "[CV] colsample_bytree=0.6, gamma=1, learning_rate=0.2, max_depth=3, subsample=0.8 \n",
      "[CV]  colsample_bytree=0.6, gamma=1, learning_rate=0.2, max_depth=3, subsample=0.8, score=0.8928571428571429, total=   0.2s\n",
      "[CV] colsample_bytree=0.6, gamma=1, learning_rate=0.2, max_depth=6, subsample=0.6 \n",
      "[CV]  colsample_bytree=0.6, gamma=1, learning_rate=0.2, max_depth=6, subsample=0.6, score=0.9057142857142857, total=   0.3s\n",
      "[CV] colsample_bytree=0.6, gamma=1, learning_rate=0.2, max_depth=6, subsample=0.6 \n",
      "[CV]  colsample_bytree=0.6, gamma=1, learning_rate=0.2, max_depth=6, subsample=0.6, score=0.88, total=   0.3s\n",
      "[CV] colsample_bytree=0.6, gamma=1, learning_rate=0.2, max_depth=6, subsample=0.6 \n",
      "[CV]  colsample_bytree=0.6, gamma=1, learning_rate=0.2, max_depth=6, subsample=0.6, score=0.8942857142857142, total=   0.3s\n",
      "[CV] colsample_bytree=0.6, gamma=1, learning_rate=0.2, max_depth=6, subsample=0.6 \n",
      "[CV]  colsample_bytree=0.6, gamma=1, learning_rate=0.2, max_depth=6, subsample=0.6, score=0.8971428571428571, total=   0.3s\n",
      "[CV] colsample_bytree=0.6, gamma=1, learning_rate=0.2, max_depth=6, subsample=0.6 \n",
      "[CV]  colsample_bytree=0.6, gamma=1, learning_rate=0.2, max_depth=6, subsample=0.6, score=0.8928571428571429, total=   0.3s\n",
      "[CV] colsample_bytree=0.6, gamma=1, learning_rate=0.2, max_depth=6, subsample=0.7 \n",
      "[CV]  colsample_bytree=0.6, gamma=1, learning_rate=0.2, max_depth=6, subsample=0.7, score=0.8985714285714286, total=   0.3s\n",
      "[CV] colsample_bytree=0.6, gamma=1, learning_rate=0.2, max_depth=6, subsample=0.7 \n"
     ]
    },
    {
     "name": "stdout",
     "output_type": "stream",
     "text": [
      "[CV]  colsample_bytree=0.6, gamma=1, learning_rate=0.2, max_depth=6, subsample=0.7, score=0.8785714285714286, total=   0.3s\n",
      "[CV] colsample_bytree=0.6, gamma=1, learning_rate=0.2, max_depth=6, subsample=0.7 \n",
      "[CV]  colsample_bytree=0.6, gamma=1, learning_rate=0.2, max_depth=6, subsample=0.7, score=0.8928571428571429, total=   0.3s\n",
      "[CV] colsample_bytree=0.6, gamma=1, learning_rate=0.2, max_depth=6, subsample=0.7 \n",
      "[CV]  colsample_bytree=0.6, gamma=1, learning_rate=0.2, max_depth=6, subsample=0.7, score=0.9028571428571428, total=   0.3s\n",
      "[CV] colsample_bytree=0.6, gamma=1, learning_rate=0.2, max_depth=6, subsample=0.7 \n",
      "[CV]  colsample_bytree=0.6, gamma=1, learning_rate=0.2, max_depth=6, subsample=0.7, score=0.8828571428571429, total=   0.3s\n",
      "[CV] colsample_bytree=0.6, gamma=1, learning_rate=0.2, max_depth=6, subsample=0.8 \n",
      "[CV]  colsample_bytree=0.6, gamma=1, learning_rate=0.2, max_depth=6, subsample=0.8, score=0.9028571428571428, total=   0.2s\n",
      "[CV] colsample_bytree=0.6, gamma=1, learning_rate=0.2, max_depth=6, subsample=0.8 \n",
      "[CV]  colsample_bytree=0.6, gamma=1, learning_rate=0.2, max_depth=6, subsample=0.8, score=0.8785714285714286, total=   0.2s\n",
      "[CV] colsample_bytree=0.6, gamma=1, learning_rate=0.2, max_depth=6, subsample=0.8 \n",
      "[CV]  colsample_bytree=0.6, gamma=1, learning_rate=0.2, max_depth=6, subsample=0.8, score=0.8971428571428571, total=   0.3s\n",
      "[CV] colsample_bytree=0.6, gamma=1, learning_rate=0.2, max_depth=6, subsample=0.8 \n",
      "[CV]  colsample_bytree=0.6, gamma=1, learning_rate=0.2, max_depth=6, subsample=0.8, score=0.9014285714285715, total=   0.2s\n",
      "[CV] colsample_bytree=0.6, gamma=1, learning_rate=0.2, max_depth=6, subsample=0.8 \n",
      "[CV]  colsample_bytree=0.6, gamma=1, learning_rate=0.2, max_depth=6, subsample=0.8, score=0.8914285714285715, total=   0.2s\n",
      "[CV] colsample_bytree=0.6, gamma=1, learning_rate=0.2, max_depth=10, subsample=0.6 \n",
      "[CV]  colsample_bytree=0.6, gamma=1, learning_rate=0.2, max_depth=10, subsample=0.6, score=0.8942857142857142, total=   0.4s\n",
      "[CV] colsample_bytree=0.6, gamma=1, learning_rate=0.2, max_depth=10, subsample=0.6 \n",
      "[CV]  colsample_bytree=0.6, gamma=1, learning_rate=0.2, max_depth=10, subsample=0.6, score=0.8642857142857143, total=   0.4s\n",
      "[CV] colsample_bytree=0.6, gamma=1, learning_rate=0.2, max_depth=10, subsample=0.6 \n",
      "[CV]  colsample_bytree=0.6, gamma=1, learning_rate=0.2, max_depth=10, subsample=0.6, score=0.89, total=   0.4s\n",
      "[CV] colsample_bytree=0.6, gamma=1, learning_rate=0.2, max_depth=10, subsample=0.6 \n",
      "[CV]  colsample_bytree=0.6, gamma=1, learning_rate=0.2, max_depth=10, subsample=0.6, score=0.8957142857142857, total=   0.4s\n",
      "[CV] colsample_bytree=0.6, gamma=1, learning_rate=0.2, max_depth=10, subsample=0.6 \n",
      "[CV]  colsample_bytree=0.6, gamma=1, learning_rate=0.2, max_depth=10, subsample=0.6, score=0.8814285714285715, total=   0.4s\n",
      "[CV] colsample_bytree=0.6, gamma=1, learning_rate=0.2, max_depth=10, subsample=0.7 \n",
      "[CV]  colsample_bytree=0.6, gamma=1, learning_rate=0.2, max_depth=10, subsample=0.7, score=0.8957142857142857, total=   0.4s\n",
      "[CV] colsample_bytree=0.6, gamma=1, learning_rate=0.2, max_depth=10, subsample=0.7 \n",
      "[CV]  colsample_bytree=0.6, gamma=1, learning_rate=0.2, max_depth=10, subsample=0.7, score=0.8771428571428571, total=   0.4s\n",
      "[CV] colsample_bytree=0.6, gamma=1, learning_rate=0.2, max_depth=10, subsample=0.7 \n",
      "[CV]  colsample_bytree=0.6, gamma=1, learning_rate=0.2, max_depth=10, subsample=0.7, score=0.8871428571428571, total=   0.4s\n",
      "[CV] colsample_bytree=0.6, gamma=1, learning_rate=0.2, max_depth=10, subsample=0.7 \n",
      "[CV]  colsample_bytree=0.6, gamma=1, learning_rate=0.2, max_depth=10, subsample=0.7, score=0.9028571428571428, total=   0.4s\n",
      "[CV] colsample_bytree=0.6, gamma=1, learning_rate=0.2, max_depth=10, subsample=0.7 \n",
      "[CV]  colsample_bytree=0.6, gamma=1, learning_rate=0.2, max_depth=10, subsample=0.7, score=0.8842857142857142, total=   0.4s\n",
      "[CV] colsample_bytree=0.6, gamma=1, learning_rate=0.2, max_depth=10, subsample=0.8 \n",
      "[CV]  colsample_bytree=0.6, gamma=1, learning_rate=0.2, max_depth=10, subsample=0.8, score=0.8985714285714286, total=   0.4s\n",
      "[CV] colsample_bytree=0.6, gamma=1, learning_rate=0.2, max_depth=10, subsample=0.8 \n",
      "[CV]  colsample_bytree=0.6, gamma=1, learning_rate=0.2, max_depth=10, subsample=0.8, score=0.8742857142857143, total=   0.4s\n",
      "[CV] colsample_bytree=0.6, gamma=1, learning_rate=0.2, max_depth=10, subsample=0.8 \n",
      "[CV]  colsample_bytree=0.6, gamma=1, learning_rate=0.2, max_depth=10, subsample=0.8, score=0.89, total=   0.4s\n",
      "[CV] colsample_bytree=0.6, gamma=1, learning_rate=0.2, max_depth=10, subsample=0.8 \n",
      "[CV]  colsample_bytree=0.6, gamma=1, learning_rate=0.2, max_depth=10, subsample=0.8, score=0.9014285714285715, total=   0.4s\n",
      "[CV] colsample_bytree=0.6, gamma=1, learning_rate=0.2, max_depth=10, subsample=0.8 \n",
      "[CV]  colsample_bytree=0.6, gamma=1, learning_rate=0.2, max_depth=10, subsample=0.8, score=0.8857142857142857, total=   0.4s\n",
      "[CV] colsample_bytree=0.6, gamma=1.5, learning_rate=0.2, max_depth=3, subsample=0.6 \n",
      "[CV]  colsample_bytree=0.6, gamma=1.5, learning_rate=0.2, max_depth=3, subsample=0.6, score=0.9057142857142857, total=   0.1s\n",
      "[CV] colsample_bytree=0.6, gamma=1.5, learning_rate=0.2, max_depth=3, subsample=0.6 \n",
      "[CV]  colsample_bytree=0.6, gamma=1.5, learning_rate=0.2, max_depth=3, subsample=0.6, score=0.8914285714285715, total=   0.1s\n",
      "[CV] colsample_bytree=0.6, gamma=1.5, learning_rate=0.2, max_depth=3, subsample=0.6 \n",
      "[CV]  colsample_bytree=0.6, gamma=1.5, learning_rate=0.2, max_depth=3, subsample=0.6, score=0.8971428571428571, total=   0.1s\n",
      "[CV] colsample_bytree=0.6, gamma=1.5, learning_rate=0.2, max_depth=3, subsample=0.6 \n",
      "[CV]  colsample_bytree=0.6, gamma=1.5, learning_rate=0.2, max_depth=3, subsample=0.6, score=0.9014285714285715, total=   0.1s\n",
      "[CV] colsample_bytree=0.6, gamma=1.5, learning_rate=0.2, max_depth=3, subsample=0.6 \n",
      "[CV]  colsample_bytree=0.6, gamma=1.5, learning_rate=0.2, max_depth=3, subsample=0.6, score=0.8914285714285715, total=   0.1s\n",
      "[CV] colsample_bytree=0.6, gamma=1.5, learning_rate=0.2, max_depth=3, subsample=0.7 \n",
      "[CV]  colsample_bytree=0.6, gamma=1.5, learning_rate=0.2, max_depth=3, subsample=0.7, score=0.9085714285714286, total=   0.2s\n",
      "[CV] colsample_bytree=0.6, gamma=1.5, learning_rate=0.2, max_depth=3, subsample=0.7 \n",
      "[CV]  colsample_bytree=0.6, gamma=1.5, learning_rate=0.2, max_depth=3, subsample=0.7, score=0.89, total=   0.1s\n",
      "[CV] colsample_bytree=0.6, gamma=1.5, learning_rate=0.2, max_depth=3, subsample=0.7 \n",
      "[CV]  colsample_bytree=0.6, gamma=1.5, learning_rate=0.2, max_depth=3, subsample=0.7, score=0.9014285714285715, total=   0.1s\n",
      "[CV] colsample_bytree=0.6, gamma=1.5, learning_rate=0.2, max_depth=3, subsample=0.7 \n",
      "[CV]  colsample_bytree=0.6, gamma=1.5, learning_rate=0.2, max_depth=3, subsample=0.7, score=0.9071428571428571, total=   0.1s\n",
      "[CV] colsample_bytree=0.6, gamma=1.5, learning_rate=0.2, max_depth=3, subsample=0.7 \n",
      "[CV]  colsample_bytree=0.6, gamma=1.5, learning_rate=0.2, max_depth=3, subsample=0.7, score=0.9, total=   0.1s\n",
      "[CV] colsample_bytree=0.6, gamma=1.5, learning_rate=0.2, max_depth=3, subsample=0.8 \n",
      "[CV]  colsample_bytree=0.6, gamma=1.5, learning_rate=0.2, max_depth=3, subsample=0.8, score=0.91, total=   0.1s\n",
      "[CV] colsample_bytree=0.6, gamma=1.5, learning_rate=0.2, max_depth=3, subsample=0.8 \n",
      "[CV]  colsample_bytree=0.6, gamma=1.5, learning_rate=0.2, max_depth=3, subsample=0.8, score=0.89, total=   0.1s\n",
      "[CV] colsample_bytree=0.6, gamma=1.5, learning_rate=0.2, max_depth=3, subsample=0.8 \n",
      "[CV]  colsample_bytree=0.6, gamma=1.5, learning_rate=0.2, max_depth=3, subsample=0.8, score=0.8971428571428571, total=   0.1s\n",
      "[CV] colsample_bytree=0.6, gamma=1.5, learning_rate=0.2, max_depth=3, subsample=0.8 \n",
      "[CV]  colsample_bytree=0.6, gamma=1.5, learning_rate=0.2, max_depth=3, subsample=0.8, score=0.9042857142857142, total=   0.1s\n",
      "[CV] colsample_bytree=0.6, gamma=1.5, learning_rate=0.2, max_depth=3, subsample=0.8 \n",
      "[CV]  colsample_bytree=0.6, gamma=1.5, learning_rate=0.2, max_depth=3, subsample=0.8, score=0.8957142857142857, total=   0.1s\n",
      "[CV] colsample_bytree=0.6, gamma=1.5, learning_rate=0.2, max_depth=6, subsample=0.6 \n",
      "[CV]  colsample_bytree=0.6, gamma=1.5, learning_rate=0.2, max_depth=6, subsample=0.6, score=0.9, total=   0.3s\n",
      "[CV] colsample_bytree=0.6, gamma=1.5, learning_rate=0.2, max_depth=6, subsample=0.6 \n"
     ]
    },
    {
     "name": "stdout",
     "output_type": "stream",
     "text": [
      "[CV]  colsample_bytree=0.6, gamma=1.5, learning_rate=0.2, max_depth=6, subsample=0.6, score=0.8828571428571429, total=   0.3s\n",
      "[CV] colsample_bytree=0.6, gamma=1.5, learning_rate=0.2, max_depth=6, subsample=0.6 \n",
      "[CV]  colsample_bytree=0.6, gamma=1.5, learning_rate=0.2, max_depth=6, subsample=0.6, score=0.8928571428571429, total=   0.3s\n",
      "[CV] colsample_bytree=0.6, gamma=1.5, learning_rate=0.2, max_depth=6, subsample=0.6 \n",
      "[CV]  colsample_bytree=0.6, gamma=1.5, learning_rate=0.2, max_depth=6, subsample=0.6, score=0.9057142857142857, total=   0.3s\n",
      "[CV] colsample_bytree=0.6, gamma=1.5, learning_rate=0.2, max_depth=6, subsample=0.6 \n",
      "[CV]  colsample_bytree=0.6, gamma=1.5, learning_rate=0.2, max_depth=6, subsample=0.6, score=0.8842857142857142, total=   0.3s\n",
      "[CV] colsample_bytree=0.6, gamma=1.5, learning_rate=0.2, max_depth=6, subsample=0.7 \n",
      "[CV]  colsample_bytree=0.6, gamma=1.5, learning_rate=0.2, max_depth=6, subsample=0.7, score=0.9028571428571428, total=   0.3s\n",
      "[CV] colsample_bytree=0.6, gamma=1.5, learning_rate=0.2, max_depth=6, subsample=0.7 \n",
      "[CV]  colsample_bytree=0.6, gamma=1.5, learning_rate=0.2, max_depth=6, subsample=0.7, score=0.8785714285714286, total=   0.3s\n",
      "[CV] colsample_bytree=0.6, gamma=1.5, learning_rate=0.2, max_depth=6, subsample=0.7 \n",
      "[CV]  colsample_bytree=0.6, gamma=1.5, learning_rate=0.2, max_depth=6, subsample=0.7, score=0.8928571428571429, total=   0.3s\n",
      "[CV] colsample_bytree=0.6, gamma=1.5, learning_rate=0.2, max_depth=6, subsample=0.7 \n",
      "[CV]  colsample_bytree=0.6, gamma=1.5, learning_rate=0.2, max_depth=6, subsample=0.7, score=0.9057142857142857, total=   0.3s\n",
      "[CV] colsample_bytree=0.6, gamma=1.5, learning_rate=0.2, max_depth=6, subsample=0.7 \n",
      "[CV]  colsample_bytree=0.6, gamma=1.5, learning_rate=0.2, max_depth=6, subsample=0.7, score=0.8928571428571429, total=   0.2s\n",
      "[CV] colsample_bytree=0.6, gamma=1.5, learning_rate=0.2, max_depth=6, subsample=0.8 \n",
      "[CV]  colsample_bytree=0.6, gamma=1.5, learning_rate=0.2, max_depth=6, subsample=0.8, score=0.9028571428571428, total=   0.2s\n",
      "[CV] colsample_bytree=0.6, gamma=1.5, learning_rate=0.2, max_depth=6, subsample=0.8 \n",
      "[CV]  colsample_bytree=0.6, gamma=1.5, learning_rate=0.2, max_depth=6, subsample=0.8, score=0.8842857142857142, total=   0.2s\n",
      "[CV] colsample_bytree=0.6, gamma=1.5, learning_rate=0.2, max_depth=6, subsample=0.8 \n",
      "[CV]  colsample_bytree=0.6, gamma=1.5, learning_rate=0.2, max_depth=6, subsample=0.8, score=0.8957142857142857, total=   0.2s\n",
      "[CV] colsample_bytree=0.6, gamma=1.5, learning_rate=0.2, max_depth=6, subsample=0.8 \n",
      "[CV]  colsample_bytree=0.6, gamma=1.5, learning_rate=0.2, max_depth=6, subsample=0.8, score=0.9042857142857142, total=   0.2s\n",
      "[CV] colsample_bytree=0.6, gamma=1.5, learning_rate=0.2, max_depth=6, subsample=0.8 \n",
      "[CV]  colsample_bytree=0.6, gamma=1.5, learning_rate=0.2, max_depth=6, subsample=0.8, score=0.8928571428571429, total=   0.2s\n",
      "[CV] colsample_bytree=0.6, gamma=1.5, learning_rate=0.2, max_depth=10, subsample=0.6 \n",
      "[CV]  colsample_bytree=0.6, gamma=1.5, learning_rate=0.2, max_depth=10, subsample=0.6, score=0.8985714285714286, total=   0.4s\n",
      "[CV] colsample_bytree=0.6, gamma=1.5, learning_rate=0.2, max_depth=10, subsample=0.6 \n",
      "[CV]  colsample_bytree=0.6, gamma=1.5, learning_rate=0.2, max_depth=10, subsample=0.6, score=0.8785714285714286, total=   0.4s\n",
      "[CV] colsample_bytree=0.6, gamma=1.5, learning_rate=0.2, max_depth=10, subsample=0.6 \n",
      "[CV]  colsample_bytree=0.6, gamma=1.5, learning_rate=0.2, max_depth=10, subsample=0.6, score=0.8957142857142857, total=   0.4s\n",
      "[CV] colsample_bytree=0.6, gamma=1.5, learning_rate=0.2, max_depth=10, subsample=0.6 \n",
      "[CV]  colsample_bytree=0.6, gamma=1.5, learning_rate=0.2, max_depth=10, subsample=0.6, score=0.8971428571428571, total=   0.4s\n",
      "[CV] colsample_bytree=0.6, gamma=1.5, learning_rate=0.2, max_depth=10, subsample=0.6 \n",
      "[CV]  colsample_bytree=0.6, gamma=1.5, learning_rate=0.2, max_depth=10, subsample=0.6, score=0.8857142857142857, total=   0.4s\n",
      "[CV] colsample_bytree=0.6, gamma=1.5, learning_rate=0.2, max_depth=10, subsample=0.7 \n",
      "[CV]  colsample_bytree=0.6, gamma=1.5, learning_rate=0.2, max_depth=10, subsample=0.7, score=0.9, total=   0.4s\n",
      "[CV] colsample_bytree=0.6, gamma=1.5, learning_rate=0.2, max_depth=10, subsample=0.7 \n",
      "[CV]  colsample_bytree=0.6, gamma=1.5, learning_rate=0.2, max_depth=10, subsample=0.7, score=0.8814285714285715, total=   0.4s\n",
      "[CV] colsample_bytree=0.6, gamma=1.5, learning_rate=0.2, max_depth=10, subsample=0.7 \n",
      "[CV]  colsample_bytree=0.6, gamma=1.5, learning_rate=0.2, max_depth=10, subsample=0.7, score=0.8928571428571429, total=   0.4s\n",
      "[CV] colsample_bytree=0.6, gamma=1.5, learning_rate=0.2, max_depth=10, subsample=0.7 \n",
      "[CV]  colsample_bytree=0.6, gamma=1.5, learning_rate=0.2, max_depth=10, subsample=0.7, score=0.8985714285714286, total=   0.4s\n",
      "[CV] colsample_bytree=0.6, gamma=1.5, learning_rate=0.2, max_depth=10, subsample=0.7 \n",
      "[CV]  colsample_bytree=0.6, gamma=1.5, learning_rate=0.2, max_depth=10, subsample=0.7, score=0.8885714285714286, total=   0.4s\n",
      "[CV] colsample_bytree=0.6, gamma=1.5, learning_rate=0.2, max_depth=10, subsample=0.8 \n",
      "[CV]  colsample_bytree=0.6, gamma=1.5, learning_rate=0.2, max_depth=10, subsample=0.8, score=0.9014285714285715, total=   0.4s\n",
      "[CV] colsample_bytree=0.6, gamma=1.5, learning_rate=0.2, max_depth=10, subsample=0.8 \n",
      "[CV]  colsample_bytree=0.6, gamma=1.5, learning_rate=0.2, max_depth=10, subsample=0.8, score=0.8757142857142857, total=   0.4s\n",
      "[CV] colsample_bytree=0.6, gamma=1.5, learning_rate=0.2, max_depth=10, subsample=0.8 \n",
      "[CV]  colsample_bytree=0.6, gamma=1.5, learning_rate=0.2, max_depth=10, subsample=0.8, score=0.8928571428571429, total=   0.4s\n",
      "[CV] colsample_bytree=0.6, gamma=1.5, learning_rate=0.2, max_depth=10, subsample=0.8 \n",
      "[CV]  colsample_bytree=0.6, gamma=1.5, learning_rate=0.2, max_depth=10, subsample=0.8, score=0.9014285714285715, total=   0.4s\n",
      "[CV] colsample_bytree=0.6, gamma=1.5, learning_rate=0.2, max_depth=10, subsample=0.8 \n",
      "[CV]  colsample_bytree=0.6, gamma=1.5, learning_rate=0.2, max_depth=10, subsample=0.8, score=0.8857142857142857, total=   0.4s\n",
      "[CV] colsample_bytree=0.8, gamma=0.25, learning_rate=0.2, max_depth=3, subsample=0.6 \n",
      "[CV]  colsample_bytree=0.8, gamma=0.25, learning_rate=0.2, max_depth=3, subsample=0.6, score=0.9071428571428571, total=   0.2s\n",
      "[CV] colsample_bytree=0.8, gamma=0.25, learning_rate=0.2, max_depth=3, subsample=0.6 \n",
      "[CV]  colsample_bytree=0.8, gamma=0.25, learning_rate=0.2, max_depth=3, subsample=0.6, score=0.8914285714285715, total=   0.2s\n",
      "[CV] colsample_bytree=0.8, gamma=0.25, learning_rate=0.2, max_depth=3, subsample=0.6 \n",
      "[CV]  colsample_bytree=0.8, gamma=0.25, learning_rate=0.2, max_depth=3, subsample=0.6, score=0.8942857142857142, total=   0.2s\n",
      "[CV] colsample_bytree=0.8, gamma=0.25, learning_rate=0.2, max_depth=3, subsample=0.6 \n",
      "[CV]  colsample_bytree=0.8, gamma=0.25, learning_rate=0.2, max_depth=3, subsample=0.6, score=0.9028571428571428, total=   0.2s\n",
      "[CV] colsample_bytree=0.8, gamma=0.25, learning_rate=0.2, max_depth=3, subsample=0.6 \n",
      "[CV]  colsample_bytree=0.8, gamma=0.25, learning_rate=0.2, max_depth=3, subsample=0.6, score=0.8942857142857142, total=   0.2s\n",
      "[CV] colsample_bytree=0.8, gamma=0.25, learning_rate=0.2, max_depth=3, subsample=0.7 \n",
      "[CV]  colsample_bytree=0.8, gamma=0.25, learning_rate=0.2, max_depth=3, subsample=0.7, score=0.9071428571428571, total=   0.2s\n",
      "[CV] colsample_bytree=0.8, gamma=0.25, learning_rate=0.2, max_depth=3, subsample=0.7 \n",
      "[CV]  colsample_bytree=0.8, gamma=0.25, learning_rate=0.2, max_depth=3, subsample=0.7, score=0.8942857142857142, total=   0.1s\n",
      "[CV] colsample_bytree=0.8, gamma=0.25, learning_rate=0.2, max_depth=3, subsample=0.7 \n",
      "[CV]  colsample_bytree=0.8, gamma=0.25, learning_rate=0.2, max_depth=3, subsample=0.7, score=0.8985714285714286, total=   0.1s\n",
      "[CV] colsample_bytree=0.8, gamma=0.25, learning_rate=0.2, max_depth=3, subsample=0.7 \n",
      "[CV]  colsample_bytree=0.8, gamma=0.25, learning_rate=0.2, max_depth=3, subsample=0.7, score=0.9057142857142857, total=   0.1s\n",
      "[CV] colsample_bytree=0.8, gamma=0.25, learning_rate=0.2, max_depth=3, subsample=0.7 \n",
      "[CV]  colsample_bytree=0.8, gamma=0.25, learning_rate=0.2, max_depth=3, subsample=0.7, score=0.8957142857142857, total=   0.1s\n",
      "[CV] colsample_bytree=0.8, gamma=0.25, learning_rate=0.2, max_depth=3, subsample=0.8 \n"
     ]
    },
    {
     "name": "stdout",
     "output_type": "stream",
     "text": [
      "[CV]  colsample_bytree=0.8, gamma=0.25, learning_rate=0.2, max_depth=3, subsample=0.8, score=0.9114285714285715, total=   0.1s\n",
      "[CV] colsample_bytree=0.8, gamma=0.25, learning_rate=0.2, max_depth=3, subsample=0.8 \n",
      "[CV]  colsample_bytree=0.8, gamma=0.25, learning_rate=0.2, max_depth=3, subsample=0.8, score=0.8928571428571429, total=   0.1s\n",
      "[CV] colsample_bytree=0.8, gamma=0.25, learning_rate=0.2, max_depth=3, subsample=0.8 \n",
      "[CV]  colsample_bytree=0.8, gamma=0.25, learning_rate=0.2, max_depth=3, subsample=0.8, score=0.8957142857142857, total=   0.1s\n",
      "[CV] colsample_bytree=0.8, gamma=0.25, learning_rate=0.2, max_depth=3, subsample=0.8 \n",
      "[CV]  colsample_bytree=0.8, gamma=0.25, learning_rate=0.2, max_depth=3, subsample=0.8, score=0.9028571428571428, total=   0.1s\n",
      "[CV] colsample_bytree=0.8, gamma=0.25, learning_rate=0.2, max_depth=3, subsample=0.8 \n",
      "[CV]  colsample_bytree=0.8, gamma=0.25, learning_rate=0.2, max_depth=3, subsample=0.8, score=0.8985714285714286, total=   0.1s\n",
      "[CV] colsample_bytree=0.8, gamma=0.25, learning_rate=0.2, max_depth=6, subsample=0.6 \n",
      "[CV]  colsample_bytree=0.8, gamma=0.25, learning_rate=0.2, max_depth=6, subsample=0.6, score=0.9014285714285715, total=   0.3s\n",
      "[CV] colsample_bytree=0.8, gamma=0.25, learning_rate=0.2, max_depth=6, subsample=0.6 \n",
      "[CV]  colsample_bytree=0.8, gamma=0.25, learning_rate=0.2, max_depth=6, subsample=0.6, score=0.8714285714285714, total=   0.3s\n",
      "[CV] colsample_bytree=0.8, gamma=0.25, learning_rate=0.2, max_depth=6, subsample=0.6 \n",
      "[CV]  colsample_bytree=0.8, gamma=0.25, learning_rate=0.2, max_depth=6, subsample=0.6, score=0.8914285714285715, total=   0.3s\n",
      "[CV] colsample_bytree=0.8, gamma=0.25, learning_rate=0.2, max_depth=6, subsample=0.6 \n",
      "[CV]  colsample_bytree=0.8, gamma=0.25, learning_rate=0.2, max_depth=6, subsample=0.6, score=0.9085714285714286, total=   0.3s\n",
      "[CV] colsample_bytree=0.8, gamma=0.25, learning_rate=0.2, max_depth=6, subsample=0.6 \n",
      "[CV]  colsample_bytree=0.8, gamma=0.25, learning_rate=0.2, max_depth=6, subsample=0.6, score=0.8957142857142857, total=   0.3s\n",
      "[CV] colsample_bytree=0.8, gamma=0.25, learning_rate=0.2, max_depth=6, subsample=0.7 \n",
      "[CV]  colsample_bytree=0.8, gamma=0.25, learning_rate=0.2, max_depth=6, subsample=0.7, score=0.8928571428571429, total=   0.3s\n",
      "[CV] colsample_bytree=0.8, gamma=0.25, learning_rate=0.2, max_depth=6, subsample=0.7 \n",
      "[CV]  colsample_bytree=0.8, gamma=0.25, learning_rate=0.2, max_depth=6, subsample=0.7, score=0.8842857142857142, total=   0.3s\n",
      "[CV] colsample_bytree=0.8, gamma=0.25, learning_rate=0.2, max_depth=6, subsample=0.7 \n",
      "[CV]  colsample_bytree=0.8, gamma=0.25, learning_rate=0.2, max_depth=6, subsample=0.7, score=0.8842857142857142, total=   0.3s\n",
      "[CV] colsample_bytree=0.8, gamma=0.25, learning_rate=0.2, max_depth=6, subsample=0.7 \n",
      "[CV]  colsample_bytree=0.8, gamma=0.25, learning_rate=0.2, max_depth=6, subsample=0.7, score=0.9042857142857142, total=   0.3s\n",
      "[CV] colsample_bytree=0.8, gamma=0.25, learning_rate=0.2, max_depth=6, subsample=0.7 \n",
      "[CV]  colsample_bytree=0.8, gamma=0.25, learning_rate=0.2, max_depth=6, subsample=0.7, score=0.88, total=   0.3s\n",
      "[CV] colsample_bytree=0.8, gamma=0.25, learning_rate=0.2, max_depth=6, subsample=0.8 \n",
      "[CV]  colsample_bytree=0.8, gamma=0.25, learning_rate=0.2, max_depth=6, subsample=0.8, score=0.9014285714285715, total=   0.3s\n",
      "[CV] colsample_bytree=0.8, gamma=0.25, learning_rate=0.2, max_depth=6, subsample=0.8 \n",
      "[CV]  colsample_bytree=0.8, gamma=0.25, learning_rate=0.2, max_depth=6, subsample=0.8, score=0.8771428571428571, total=   0.3s\n",
      "[CV] colsample_bytree=0.8, gamma=0.25, learning_rate=0.2, max_depth=6, subsample=0.8 \n",
      "[CV]  colsample_bytree=0.8, gamma=0.25, learning_rate=0.2, max_depth=6, subsample=0.8, score=0.8928571428571429, total=   0.3s\n",
      "[CV] colsample_bytree=0.8, gamma=0.25, learning_rate=0.2, max_depth=6, subsample=0.8 \n",
      "[CV]  colsample_bytree=0.8, gamma=0.25, learning_rate=0.2, max_depth=6, subsample=0.8, score=0.9028571428571428, total=   0.3s\n",
      "[CV] colsample_bytree=0.8, gamma=0.25, learning_rate=0.2, max_depth=6, subsample=0.8 \n",
      "[CV]  colsample_bytree=0.8, gamma=0.25, learning_rate=0.2, max_depth=6, subsample=0.8, score=0.88, total=   0.3s\n",
      "[CV] colsample_bytree=0.8, gamma=0.25, learning_rate=0.2, max_depth=10, subsample=0.6 \n",
      "[CV]  colsample_bytree=0.8, gamma=0.25, learning_rate=0.2, max_depth=10, subsample=0.6, score=0.8828571428571429, total=   0.5s\n",
      "[CV] colsample_bytree=0.8, gamma=0.25, learning_rate=0.2, max_depth=10, subsample=0.6 \n",
      "[CV]  colsample_bytree=0.8, gamma=0.25, learning_rate=0.2, max_depth=10, subsample=0.6, score=0.8742857142857143, total=   0.5s\n",
      "[CV] colsample_bytree=0.8, gamma=0.25, learning_rate=0.2, max_depth=10, subsample=0.6 \n",
      "[CV]  colsample_bytree=0.8, gamma=0.25, learning_rate=0.2, max_depth=10, subsample=0.6, score=0.8771428571428571, total=   0.5s\n",
      "[CV] colsample_bytree=0.8, gamma=0.25, learning_rate=0.2, max_depth=10, subsample=0.6 \n",
      "[CV]  colsample_bytree=0.8, gamma=0.25, learning_rate=0.2, max_depth=10, subsample=0.6, score=0.8971428571428571, total=   0.5s\n",
      "[CV] colsample_bytree=0.8, gamma=0.25, learning_rate=0.2, max_depth=10, subsample=0.6 \n",
      "[CV]  colsample_bytree=0.8, gamma=0.25, learning_rate=0.2, max_depth=10, subsample=0.6, score=0.8785714285714286, total=   0.5s\n",
      "[CV] colsample_bytree=0.8, gamma=0.25, learning_rate=0.2, max_depth=10, subsample=0.7 \n",
      "[CV]  colsample_bytree=0.8, gamma=0.25, learning_rate=0.2, max_depth=10, subsample=0.7, score=0.8928571428571429, total=   0.5s\n",
      "[CV] colsample_bytree=0.8, gamma=0.25, learning_rate=0.2, max_depth=10, subsample=0.7 \n",
      "[CV]  colsample_bytree=0.8, gamma=0.25, learning_rate=0.2, max_depth=10, subsample=0.7, score=0.8771428571428571, total=   0.5s\n",
      "[CV] colsample_bytree=0.8, gamma=0.25, learning_rate=0.2, max_depth=10, subsample=0.7 \n",
      "[CV]  colsample_bytree=0.8, gamma=0.25, learning_rate=0.2, max_depth=10, subsample=0.7, score=0.8771428571428571, total=   0.5s\n",
      "[CV] colsample_bytree=0.8, gamma=0.25, learning_rate=0.2, max_depth=10, subsample=0.7 \n",
      "[CV]  colsample_bytree=0.8, gamma=0.25, learning_rate=0.2, max_depth=10, subsample=0.7, score=0.8971428571428571, total=   0.5s\n",
      "[CV] colsample_bytree=0.8, gamma=0.25, learning_rate=0.2, max_depth=10, subsample=0.7 \n",
      "[CV]  colsample_bytree=0.8, gamma=0.25, learning_rate=0.2, max_depth=10, subsample=0.7, score=0.8871428571428571, total=   0.5s\n",
      "[CV] colsample_bytree=0.8, gamma=0.25, learning_rate=0.2, max_depth=10, subsample=0.8 \n",
      "[CV]  colsample_bytree=0.8, gamma=0.25, learning_rate=0.2, max_depth=10, subsample=0.8, score=0.89, total=   0.5s\n",
      "[CV] colsample_bytree=0.8, gamma=0.25, learning_rate=0.2, max_depth=10, subsample=0.8 \n",
      "[CV]  colsample_bytree=0.8, gamma=0.25, learning_rate=0.2, max_depth=10, subsample=0.8, score=0.8614285714285714, total=   0.5s\n",
      "[CV] colsample_bytree=0.8, gamma=0.25, learning_rate=0.2, max_depth=10, subsample=0.8 \n",
      "[CV]  colsample_bytree=0.8, gamma=0.25, learning_rate=0.2, max_depth=10, subsample=0.8, score=0.8828571428571429, total=   0.5s\n",
      "[CV] colsample_bytree=0.8, gamma=0.25, learning_rate=0.2, max_depth=10, subsample=0.8 \n",
      "[CV]  colsample_bytree=0.8, gamma=0.25, learning_rate=0.2, max_depth=10, subsample=0.8, score=0.8971428571428571, total=   0.5s\n",
      "[CV] colsample_bytree=0.8, gamma=0.25, learning_rate=0.2, max_depth=10, subsample=0.8 \n",
      "[CV]  colsample_bytree=0.8, gamma=0.25, learning_rate=0.2, max_depth=10, subsample=0.8, score=0.8814285714285715, total=   0.5s\n",
      "[CV] colsample_bytree=0.8, gamma=1, learning_rate=0.2, max_depth=3, subsample=0.6 \n",
      "[CV]  colsample_bytree=0.8, gamma=1, learning_rate=0.2, max_depth=3, subsample=0.6, score=0.91, total=   0.2s\n",
      "[CV] colsample_bytree=0.8, gamma=1, learning_rate=0.2, max_depth=3, subsample=0.6 \n",
      "[CV]  colsample_bytree=0.8, gamma=1, learning_rate=0.2, max_depth=3, subsample=0.6, score=0.8942857142857142, total=   0.2s\n",
      "[CV] colsample_bytree=0.8, gamma=1, learning_rate=0.2, max_depth=3, subsample=0.6 \n",
      "[CV]  colsample_bytree=0.8, gamma=1, learning_rate=0.2, max_depth=3, subsample=0.6, score=0.8971428571428571, total=   0.2s\n",
      "[CV] colsample_bytree=0.8, gamma=1, learning_rate=0.2, max_depth=3, subsample=0.6 \n",
      "[CV]  colsample_bytree=0.8, gamma=1, learning_rate=0.2, max_depth=3, subsample=0.6, score=0.9028571428571428, total=   0.2s\n",
      "[CV] colsample_bytree=0.8, gamma=1, learning_rate=0.2, max_depth=3, subsample=0.6 \n"
     ]
    },
    {
     "name": "stdout",
     "output_type": "stream",
     "text": [
      "[CV]  colsample_bytree=0.8, gamma=1, learning_rate=0.2, max_depth=3, subsample=0.6, score=0.8985714285714286, total=   0.2s\n",
      "[CV] colsample_bytree=0.8, gamma=1, learning_rate=0.2, max_depth=3, subsample=0.7 \n",
      "[CV]  colsample_bytree=0.8, gamma=1, learning_rate=0.2, max_depth=3, subsample=0.7, score=0.9071428571428571, total=   0.2s\n",
      "[CV] colsample_bytree=0.8, gamma=1, learning_rate=0.2, max_depth=3, subsample=0.7 \n",
      "[CV]  colsample_bytree=0.8, gamma=1, learning_rate=0.2, max_depth=3, subsample=0.7, score=0.8914285714285715, total=   0.1s\n",
      "[CV] colsample_bytree=0.8, gamma=1, learning_rate=0.2, max_depth=3, subsample=0.7 \n",
      "[CV]  colsample_bytree=0.8, gamma=1, learning_rate=0.2, max_depth=3, subsample=0.7, score=0.8985714285714286, total=   0.2s\n",
      "[CV] colsample_bytree=0.8, gamma=1, learning_rate=0.2, max_depth=3, subsample=0.7 \n",
      "[CV]  colsample_bytree=0.8, gamma=1, learning_rate=0.2, max_depth=3, subsample=0.7, score=0.9085714285714286, total=   0.2s\n",
      "[CV] colsample_bytree=0.8, gamma=1, learning_rate=0.2, max_depth=3, subsample=0.7 \n",
      "[CV]  colsample_bytree=0.8, gamma=1, learning_rate=0.2, max_depth=3, subsample=0.7, score=0.8971428571428571, total=   0.2s\n",
      "[CV] colsample_bytree=0.8, gamma=1, learning_rate=0.2, max_depth=3, subsample=0.8 \n",
      "[CV]  colsample_bytree=0.8, gamma=1, learning_rate=0.2, max_depth=3, subsample=0.8, score=0.9085714285714286, total=   0.2s\n",
      "[CV] colsample_bytree=0.8, gamma=1, learning_rate=0.2, max_depth=3, subsample=0.8 \n",
      "[CV]  colsample_bytree=0.8, gamma=1, learning_rate=0.2, max_depth=3, subsample=0.8, score=0.8914285714285715, total=   0.2s\n",
      "[CV] colsample_bytree=0.8, gamma=1, learning_rate=0.2, max_depth=3, subsample=0.8 \n",
      "[CV]  colsample_bytree=0.8, gamma=1, learning_rate=0.2, max_depth=3, subsample=0.8, score=0.8985714285714286, total=   0.2s\n",
      "[CV] colsample_bytree=0.8, gamma=1, learning_rate=0.2, max_depth=3, subsample=0.8 \n",
      "[CV]  colsample_bytree=0.8, gamma=1, learning_rate=0.2, max_depth=3, subsample=0.8, score=0.9042857142857142, total=   0.2s\n",
      "[CV] colsample_bytree=0.8, gamma=1, learning_rate=0.2, max_depth=3, subsample=0.8 \n",
      "[CV]  colsample_bytree=0.8, gamma=1, learning_rate=0.2, max_depth=3, subsample=0.8, score=0.8957142857142857, total=   0.2s\n",
      "[CV] colsample_bytree=0.8, gamma=1, learning_rate=0.2, max_depth=6, subsample=0.6 \n",
      "[CV]  colsample_bytree=0.8, gamma=1, learning_rate=0.2, max_depth=6, subsample=0.6, score=0.8957142857142857, total=   0.3s\n",
      "[CV] colsample_bytree=0.8, gamma=1, learning_rate=0.2, max_depth=6, subsample=0.6 \n",
      "[CV]  colsample_bytree=0.8, gamma=1, learning_rate=0.2, max_depth=6, subsample=0.6, score=0.8814285714285715, total=   0.4s\n",
      "[CV] colsample_bytree=0.8, gamma=1, learning_rate=0.2, max_depth=6, subsample=0.6 \n",
      "[CV]  colsample_bytree=0.8, gamma=1, learning_rate=0.2, max_depth=6, subsample=0.6, score=0.8871428571428571, total=   0.3s\n",
      "[CV] colsample_bytree=0.8, gamma=1, learning_rate=0.2, max_depth=6, subsample=0.6 \n",
      "[CV]  colsample_bytree=0.8, gamma=1, learning_rate=0.2, max_depth=6, subsample=0.6, score=0.9042857142857142, total=   0.4s\n",
      "[CV] colsample_bytree=0.8, gamma=1, learning_rate=0.2, max_depth=6, subsample=0.6 \n",
      "[CV]  colsample_bytree=0.8, gamma=1, learning_rate=0.2, max_depth=6, subsample=0.6, score=0.8871428571428571, total=   0.3s\n",
      "[CV] colsample_bytree=0.8, gamma=1, learning_rate=0.2, max_depth=6, subsample=0.7 \n",
      "[CV]  colsample_bytree=0.8, gamma=1, learning_rate=0.2, max_depth=6, subsample=0.7, score=0.8942857142857142, total=   0.3s\n",
      "[CV] colsample_bytree=0.8, gamma=1, learning_rate=0.2, max_depth=6, subsample=0.7 \n",
      "[CV]  colsample_bytree=0.8, gamma=1, learning_rate=0.2, max_depth=6, subsample=0.7, score=0.8785714285714286, total=   0.3s\n",
      "[CV] colsample_bytree=0.8, gamma=1, learning_rate=0.2, max_depth=6, subsample=0.7 \n",
      "[CV]  colsample_bytree=0.8, gamma=1, learning_rate=0.2, max_depth=6, subsample=0.7, score=0.8942857142857142, total=   0.3s\n",
      "[CV] colsample_bytree=0.8, gamma=1, learning_rate=0.2, max_depth=6, subsample=0.7 \n",
      "[CV]  colsample_bytree=0.8, gamma=1, learning_rate=0.2, max_depth=6, subsample=0.7, score=0.9014285714285715, total=   0.3s\n",
      "[CV] colsample_bytree=0.8, gamma=1, learning_rate=0.2, max_depth=6, subsample=0.7 \n",
      "[CV]  colsample_bytree=0.8, gamma=1, learning_rate=0.2, max_depth=6, subsample=0.7, score=0.88, total=   0.3s\n",
      "[CV] colsample_bytree=0.8, gamma=1, learning_rate=0.2, max_depth=6, subsample=0.8 \n",
      "[CV]  colsample_bytree=0.8, gamma=1, learning_rate=0.2, max_depth=6, subsample=0.8, score=0.9014285714285715, total=   0.3s\n",
      "[CV] colsample_bytree=0.8, gamma=1, learning_rate=0.2, max_depth=6, subsample=0.8 \n",
      "[CV]  colsample_bytree=0.8, gamma=1, learning_rate=0.2, max_depth=6, subsample=0.8, score=0.8785714285714286, total=   0.3s\n",
      "[CV] colsample_bytree=0.8, gamma=1, learning_rate=0.2, max_depth=6, subsample=0.8 \n",
      "[CV]  colsample_bytree=0.8, gamma=1, learning_rate=0.2, max_depth=6, subsample=0.8, score=0.8957142857142857, total=   0.3s\n",
      "[CV] colsample_bytree=0.8, gamma=1, learning_rate=0.2, max_depth=6, subsample=0.8 \n",
      "[CV]  colsample_bytree=0.8, gamma=1, learning_rate=0.2, max_depth=6, subsample=0.8, score=0.9028571428571428, total=   0.3s\n",
      "[CV] colsample_bytree=0.8, gamma=1, learning_rate=0.2, max_depth=6, subsample=0.8 \n",
      "[CV]  colsample_bytree=0.8, gamma=1, learning_rate=0.2, max_depth=6, subsample=0.8, score=0.8942857142857142, total=   0.3s\n",
      "[CV] colsample_bytree=0.8, gamma=1, learning_rate=0.2, max_depth=10, subsample=0.6 \n",
      "[CV]  colsample_bytree=0.8, gamma=1, learning_rate=0.2, max_depth=10, subsample=0.6, score=0.8971428571428571, total=   0.5s\n",
      "[CV] colsample_bytree=0.8, gamma=1, learning_rate=0.2, max_depth=10, subsample=0.6 \n",
      "[CV]  colsample_bytree=0.8, gamma=1, learning_rate=0.2, max_depth=10, subsample=0.6, score=0.8714285714285714, total=   0.5s\n",
      "[CV] colsample_bytree=0.8, gamma=1, learning_rate=0.2, max_depth=10, subsample=0.6 \n",
      "[CV]  colsample_bytree=0.8, gamma=1, learning_rate=0.2, max_depth=10, subsample=0.6, score=0.88, total=   0.5s\n",
      "[CV] colsample_bytree=0.8, gamma=1, learning_rate=0.2, max_depth=10, subsample=0.6 \n",
      "[CV]  colsample_bytree=0.8, gamma=1, learning_rate=0.2, max_depth=10, subsample=0.6, score=0.9014285714285715, total=   0.5s\n",
      "[CV] colsample_bytree=0.8, gamma=1, learning_rate=0.2, max_depth=10, subsample=0.6 \n",
      "[CV]  colsample_bytree=0.8, gamma=1, learning_rate=0.2, max_depth=10, subsample=0.6, score=0.8814285714285715, total=   0.5s\n",
      "[CV] colsample_bytree=0.8, gamma=1, learning_rate=0.2, max_depth=10, subsample=0.7 \n",
      "[CV]  colsample_bytree=0.8, gamma=1, learning_rate=0.2, max_depth=10, subsample=0.7, score=0.8942857142857142, total=   0.5s\n",
      "[CV] colsample_bytree=0.8, gamma=1, learning_rate=0.2, max_depth=10, subsample=0.7 \n",
      "[CV]  colsample_bytree=0.8, gamma=1, learning_rate=0.2, max_depth=10, subsample=0.7, score=0.8742857142857143, total=   0.5s\n",
      "[CV] colsample_bytree=0.8, gamma=1, learning_rate=0.2, max_depth=10, subsample=0.7 \n",
      "[CV]  colsample_bytree=0.8, gamma=1, learning_rate=0.2, max_depth=10, subsample=0.7, score=0.8857142857142857, total=   0.5s\n",
      "[CV] colsample_bytree=0.8, gamma=1, learning_rate=0.2, max_depth=10, subsample=0.7 \n",
      "[CV]  colsample_bytree=0.8, gamma=1, learning_rate=0.2, max_depth=10, subsample=0.7, score=0.8971428571428571, total=   0.5s\n",
      "[CV] colsample_bytree=0.8, gamma=1, learning_rate=0.2, max_depth=10, subsample=0.7 \n",
      "[CV]  colsample_bytree=0.8, gamma=1, learning_rate=0.2, max_depth=10, subsample=0.7, score=0.8814285714285715, total=   0.5s\n",
      "[CV] colsample_bytree=0.8, gamma=1, learning_rate=0.2, max_depth=10, subsample=0.8 \n",
      "[CV]  colsample_bytree=0.8, gamma=1, learning_rate=0.2, max_depth=10, subsample=0.8, score=0.8971428571428571, total=   0.5s\n",
      "[CV] colsample_bytree=0.8, gamma=1, learning_rate=0.2, max_depth=10, subsample=0.8 \n",
      "[CV]  colsample_bytree=0.8, gamma=1, learning_rate=0.2, max_depth=10, subsample=0.8, score=0.8714285714285714, total=   0.5s\n",
      "[CV] colsample_bytree=0.8, gamma=1, learning_rate=0.2, max_depth=10, subsample=0.8 \n",
      "[CV]  colsample_bytree=0.8, gamma=1, learning_rate=0.2, max_depth=10, subsample=0.8, score=0.8914285714285715, total=   0.5s\n",
      "[CV] colsample_bytree=0.8, gamma=1, learning_rate=0.2, max_depth=10, subsample=0.8 \n",
      "[CV]  colsample_bytree=0.8, gamma=1, learning_rate=0.2, max_depth=10, subsample=0.8, score=0.8985714285714286, total=   0.5s\n",
      "[CV] colsample_bytree=0.8, gamma=1, learning_rate=0.2, max_depth=10, subsample=0.8 \n"
     ]
    },
    {
     "name": "stdout",
     "output_type": "stream",
     "text": [
      "[CV]  colsample_bytree=0.8, gamma=1, learning_rate=0.2, max_depth=10, subsample=0.8, score=0.8857142857142857, total=   0.6s\n",
      "[CV] colsample_bytree=0.8, gamma=1.5, learning_rate=0.2, max_depth=3, subsample=0.6 \n",
      "[CV]  colsample_bytree=0.8, gamma=1.5, learning_rate=0.2, max_depth=3, subsample=0.6, score=0.91, total=   0.2s\n",
      "[CV] colsample_bytree=0.8, gamma=1.5, learning_rate=0.2, max_depth=3, subsample=0.6 \n",
      "[CV]  colsample_bytree=0.8, gamma=1.5, learning_rate=0.2, max_depth=3, subsample=0.6, score=0.8928571428571429, total=   0.2s\n",
      "[CV] colsample_bytree=0.8, gamma=1.5, learning_rate=0.2, max_depth=3, subsample=0.6 \n",
      "[CV]  colsample_bytree=0.8, gamma=1.5, learning_rate=0.2, max_depth=3, subsample=0.6, score=0.8985714285714286, total=   0.2s\n",
      "[CV] colsample_bytree=0.8, gamma=1.5, learning_rate=0.2, max_depth=3, subsample=0.6 \n",
      "[CV]  colsample_bytree=0.8, gamma=1.5, learning_rate=0.2, max_depth=3, subsample=0.6, score=0.9071428571428571, total=   0.2s\n",
      "[CV] colsample_bytree=0.8, gamma=1.5, learning_rate=0.2, max_depth=3, subsample=0.6 \n",
      "[CV]  colsample_bytree=0.8, gamma=1.5, learning_rate=0.2, max_depth=3, subsample=0.6, score=0.9, total=   0.2s\n",
      "[CV] colsample_bytree=0.8, gamma=1.5, learning_rate=0.2, max_depth=3, subsample=0.7 \n",
      "[CV]  colsample_bytree=0.8, gamma=1.5, learning_rate=0.2, max_depth=3, subsample=0.7, score=0.9071428571428571, total=   0.2s\n",
      "[CV] colsample_bytree=0.8, gamma=1.5, learning_rate=0.2, max_depth=3, subsample=0.7 \n",
      "[CV]  colsample_bytree=0.8, gamma=1.5, learning_rate=0.2, max_depth=3, subsample=0.7, score=0.8871428571428571, total=   0.2s\n",
      "[CV] colsample_bytree=0.8, gamma=1.5, learning_rate=0.2, max_depth=3, subsample=0.7 \n",
      "[CV]  colsample_bytree=0.8, gamma=1.5, learning_rate=0.2, max_depth=3, subsample=0.7, score=0.8971428571428571, total=   0.2s\n",
      "[CV] colsample_bytree=0.8, gamma=1.5, learning_rate=0.2, max_depth=3, subsample=0.7 \n",
      "[CV]  colsample_bytree=0.8, gamma=1.5, learning_rate=0.2, max_depth=3, subsample=0.7, score=0.9057142857142857, total=   0.2s\n",
      "[CV] colsample_bytree=0.8, gamma=1.5, learning_rate=0.2, max_depth=3, subsample=0.7 \n",
      "[CV]  colsample_bytree=0.8, gamma=1.5, learning_rate=0.2, max_depth=3, subsample=0.7, score=0.8971428571428571, total=   0.1s\n",
      "[CV] colsample_bytree=0.8, gamma=1.5, learning_rate=0.2, max_depth=3, subsample=0.8 \n",
      "[CV]  colsample_bytree=0.8, gamma=1.5, learning_rate=0.2, max_depth=3, subsample=0.8, score=0.9085714285714286, total=   0.2s\n",
      "[CV] colsample_bytree=0.8, gamma=1.5, learning_rate=0.2, max_depth=3, subsample=0.8 \n",
      "[CV]  colsample_bytree=0.8, gamma=1.5, learning_rate=0.2, max_depth=3, subsample=0.8, score=0.8928571428571429, total=   0.2s\n",
      "[CV] colsample_bytree=0.8, gamma=1.5, learning_rate=0.2, max_depth=3, subsample=0.8 \n",
      "[CV]  colsample_bytree=0.8, gamma=1.5, learning_rate=0.2, max_depth=3, subsample=0.8, score=0.8985714285714286, total=   0.2s\n",
      "[CV] colsample_bytree=0.8, gamma=1.5, learning_rate=0.2, max_depth=3, subsample=0.8 \n",
      "[CV]  colsample_bytree=0.8, gamma=1.5, learning_rate=0.2, max_depth=3, subsample=0.8, score=0.9028571428571428, total=   0.2s\n",
      "[CV] colsample_bytree=0.8, gamma=1.5, learning_rate=0.2, max_depth=3, subsample=0.8 \n",
      "[CV]  colsample_bytree=0.8, gamma=1.5, learning_rate=0.2, max_depth=3, subsample=0.8, score=0.8985714285714286, total=   0.1s\n",
      "[CV] colsample_bytree=0.8, gamma=1.5, learning_rate=0.2, max_depth=6, subsample=0.6 \n",
      "[CV]  colsample_bytree=0.8, gamma=1.5, learning_rate=0.2, max_depth=6, subsample=0.6, score=0.9042857142857142, total=   0.3s\n",
      "[CV] colsample_bytree=0.8, gamma=1.5, learning_rate=0.2, max_depth=6, subsample=0.6 \n",
      "[CV]  colsample_bytree=0.8, gamma=1.5, learning_rate=0.2, max_depth=6, subsample=0.6, score=0.8814285714285715, total=   0.3s\n",
      "[CV] colsample_bytree=0.8, gamma=1.5, learning_rate=0.2, max_depth=6, subsample=0.6 \n",
      "[CV]  colsample_bytree=0.8, gamma=1.5, learning_rate=0.2, max_depth=6, subsample=0.6, score=0.8885714285714286, total=   0.3s\n",
      "[CV] colsample_bytree=0.8, gamma=1.5, learning_rate=0.2, max_depth=6, subsample=0.6 \n",
      "[CV]  colsample_bytree=0.8, gamma=1.5, learning_rate=0.2, max_depth=6, subsample=0.6, score=0.9028571428571428, total=   0.3s\n",
      "[CV] colsample_bytree=0.8, gamma=1.5, learning_rate=0.2, max_depth=6, subsample=0.6 \n",
      "[CV]  colsample_bytree=0.8, gamma=1.5, learning_rate=0.2, max_depth=6, subsample=0.6, score=0.8885714285714286, total=   0.3s\n",
      "[CV] colsample_bytree=0.8, gamma=1.5, learning_rate=0.2, max_depth=6, subsample=0.7 \n",
      "[CV]  colsample_bytree=0.8, gamma=1.5, learning_rate=0.2, max_depth=6, subsample=0.7, score=0.9042857142857142, total=   0.3s\n",
      "[CV] colsample_bytree=0.8, gamma=1.5, learning_rate=0.2, max_depth=6, subsample=0.7 \n",
      "[CV]  colsample_bytree=0.8, gamma=1.5, learning_rate=0.2, max_depth=6, subsample=0.7, score=0.8828571428571429, total=   0.3s\n",
      "[CV] colsample_bytree=0.8, gamma=1.5, learning_rate=0.2, max_depth=6, subsample=0.7 \n",
      "[CV]  colsample_bytree=0.8, gamma=1.5, learning_rate=0.2, max_depth=6, subsample=0.7, score=0.8885714285714286, total=   0.3s\n",
      "[CV] colsample_bytree=0.8, gamma=1.5, learning_rate=0.2, max_depth=6, subsample=0.7 \n",
      "[CV]  colsample_bytree=0.8, gamma=1.5, learning_rate=0.2, max_depth=6, subsample=0.7, score=0.9028571428571428, total=   0.3s\n",
      "[CV] colsample_bytree=0.8, gamma=1.5, learning_rate=0.2, max_depth=6, subsample=0.7 \n",
      "[CV]  colsample_bytree=0.8, gamma=1.5, learning_rate=0.2, max_depth=6, subsample=0.7, score=0.8842857142857142, total=   0.3s\n",
      "[CV] colsample_bytree=0.8, gamma=1.5, learning_rate=0.2, max_depth=6, subsample=0.8 \n",
      "[CV]  colsample_bytree=0.8, gamma=1.5, learning_rate=0.2, max_depth=6, subsample=0.8, score=0.9042857142857142, total=   0.3s\n",
      "[CV] colsample_bytree=0.8, gamma=1.5, learning_rate=0.2, max_depth=6, subsample=0.8 \n",
      "[CV]  colsample_bytree=0.8, gamma=1.5, learning_rate=0.2, max_depth=6, subsample=0.8, score=0.8814285714285715, total=   0.3s\n",
      "[CV] colsample_bytree=0.8, gamma=1.5, learning_rate=0.2, max_depth=6, subsample=0.8 \n",
      "[CV]  colsample_bytree=0.8, gamma=1.5, learning_rate=0.2, max_depth=6, subsample=0.8, score=0.8985714285714286, total=   0.3s\n",
      "[CV] colsample_bytree=0.8, gamma=1.5, learning_rate=0.2, max_depth=6, subsample=0.8 \n",
      "[CV]  colsample_bytree=0.8, gamma=1.5, learning_rate=0.2, max_depth=6, subsample=0.8, score=0.9071428571428571, total=   0.3s\n",
      "[CV] colsample_bytree=0.8, gamma=1.5, learning_rate=0.2, max_depth=6, subsample=0.8 \n",
      "[CV]  colsample_bytree=0.8, gamma=1.5, learning_rate=0.2, max_depth=6, subsample=0.8, score=0.8942857142857142, total=   0.3s\n",
      "[CV] colsample_bytree=0.8, gamma=1.5, learning_rate=0.2, max_depth=10, subsample=0.6 \n",
      "[CV]  colsample_bytree=0.8, gamma=1.5, learning_rate=0.2, max_depth=10, subsample=0.6, score=0.89, total=   0.5s\n",
      "[CV] colsample_bytree=0.8, gamma=1.5, learning_rate=0.2, max_depth=10, subsample=0.6 \n",
      "[CV]  colsample_bytree=0.8, gamma=1.5, learning_rate=0.2, max_depth=10, subsample=0.6, score=0.8814285714285715, total=   0.5s\n",
      "[CV] colsample_bytree=0.8, gamma=1.5, learning_rate=0.2, max_depth=10, subsample=0.6 \n",
      "[CV]  colsample_bytree=0.8, gamma=1.5, learning_rate=0.2, max_depth=10, subsample=0.6, score=0.8728571428571429, total=   0.5s\n",
      "[CV] colsample_bytree=0.8, gamma=1.5, learning_rate=0.2, max_depth=10, subsample=0.6 \n",
      "[CV]  colsample_bytree=0.8, gamma=1.5, learning_rate=0.2, max_depth=10, subsample=0.6, score=0.8985714285714286, total=   0.5s\n",
      "[CV] colsample_bytree=0.8, gamma=1.5, learning_rate=0.2, max_depth=10, subsample=0.6 \n",
      "[CV]  colsample_bytree=0.8, gamma=1.5, learning_rate=0.2, max_depth=10, subsample=0.6, score=0.8857142857142857, total=   0.5s\n",
      "[CV] colsample_bytree=0.8, gamma=1.5, learning_rate=0.2, max_depth=10, subsample=0.7 \n",
      "[CV]  colsample_bytree=0.8, gamma=1.5, learning_rate=0.2, max_depth=10, subsample=0.7, score=0.8971428571428571, total=   0.5s\n",
      "[CV] colsample_bytree=0.8, gamma=1.5, learning_rate=0.2, max_depth=10, subsample=0.7 \n",
      "[CV]  colsample_bytree=0.8, gamma=1.5, learning_rate=0.2, max_depth=10, subsample=0.7, score=0.8785714285714286, total=   0.5s\n",
      "[CV] colsample_bytree=0.8, gamma=1.5, learning_rate=0.2, max_depth=10, subsample=0.7 \n",
      "[CV]  colsample_bytree=0.8, gamma=1.5, learning_rate=0.2, max_depth=10, subsample=0.7, score=0.8828571428571429, total=   0.5s\n",
      "[CV] colsample_bytree=0.8, gamma=1.5, learning_rate=0.2, max_depth=10, subsample=0.7 \n"
     ]
    },
    {
     "name": "stdout",
     "output_type": "stream",
     "text": [
      "[CV]  colsample_bytree=0.8, gamma=1.5, learning_rate=0.2, max_depth=10, subsample=0.7, score=0.9042857142857142, total=   0.5s\n",
      "[CV] colsample_bytree=0.8, gamma=1.5, learning_rate=0.2, max_depth=10, subsample=0.7 \n",
      "[CV]  colsample_bytree=0.8, gamma=1.5, learning_rate=0.2, max_depth=10, subsample=0.7, score=0.89, total=   0.5s\n",
      "[CV] colsample_bytree=0.8, gamma=1.5, learning_rate=0.2, max_depth=10, subsample=0.8 \n",
      "[CV]  colsample_bytree=0.8, gamma=1.5, learning_rate=0.2, max_depth=10, subsample=0.8, score=0.9057142857142857, total=   0.5s\n",
      "[CV] colsample_bytree=0.8, gamma=1.5, learning_rate=0.2, max_depth=10, subsample=0.8 \n",
      "[CV]  colsample_bytree=0.8, gamma=1.5, learning_rate=0.2, max_depth=10, subsample=0.8, score=0.8785714285714286, total=   0.6s\n",
      "[CV] colsample_bytree=0.8, gamma=1.5, learning_rate=0.2, max_depth=10, subsample=0.8 \n",
      "[CV]  colsample_bytree=0.8, gamma=1.5, learning_rate=0.2, max_depth=10, subsample=0.8, score=0.8928571428571429, total=   0.5s\n",
      "[CV] colsample_bytree=0.8, gamma=1.5, learning_rate=0.2, max_depth=10, subsample=0.8 \n",
      "[CV]  colsample_bytree=0.8, gamma=1.5, learning_rate=0.2, max_depth=10, subsample=0.8, score=0.9071428571428571, total=   0.5s\n",
      "[CV] colsample_bytree=0.8, gamma=1.5, learning_rate=0.2, max_depth=10, subsample=0.8 \n",
      "[CV]  colsample_bytree=0.8, gamma=1.5, learning_rate=0.2, max_depth=10, subsample=0.8, score=0.8871428571428571, total=   0.5s\n"
     ]
    },
    {
     "name": "stderr",
     "output_type": "stream",
     "text": [
      "[Parallel(n_jobs=1)]: Done 405 out of 405 | elapsed:  2.6min finished\n"
     ]
    },
    {
     "data": {
      "text/plain": [
       "GridSearchCV(cv=5, error_score='raise-deprecating',\n",
       "       estimator=XGBClassifier(base_score=0.5, booster='gbtree', colsample_bylevel=1,\n",
       "       colsample_bytree=1, gamma=0, learning_rate=0.1, max_delta_step=0,\n",
       "       max_depth=3, min_child_weight=1, missing=None, n_estimators=100,\n",
       "       n_jobs=1, nthread=None, objective='binary:logistic', random_state=0,\n",
       "       reg_alpha=0, reg_lambda=1, scale_pos_weight=1, seed=None,\n",
       "       silent=True, subsample=1),\n",
       "       fit_params=None, iid='warn', n_jobs=None,\n",
       "       param_grid={'learning_rate': [0.2], 'gamma': [0.25, 1, 1.5], 'subsample': [0.6, 0.7, 0.8], 'max_depth': [3, 6, 10], 'colsample_bytree': [0.4, 0.6, 0.8]},\n",
       "       pre_dispatch='2*n_jobs', refit=True, return_train_score='warn',\n",
       "       scoring='accuracy', verbose=3)"
      ]
     },
     "execution_count": 21,
     "metadata": {},
     "output_type": "execute_result"
    }
   ],
   "source": [
    "optimized_tree.fit(x_train, y_train)"
   ]
  },
  {
   "cell_type": "code",
   "execution_count": 22,
   "metadata": {},
   "outputs": [
    {
     "data": {
      "text/plain": [
       "0.9017142857142857"
      ]
     },
     "execution_count": 22,
     "metadata": {},
     "output_type": "execute_result"
    }
   ],
   "source": [
    "optimized_tree.best_score_"
   ]
  },
  {
   "cell_type": "code",
   "execution_count": 23,
   "metadata": {},
   "outputs": [
    {
     "data": {
      "text/plain": [
       "{'colsample_bytree': 0.8,\n",
       " 'gamma': 1.5,\n",
       " 'learning_rate': 0.2,\n",
       " 'max_depth': 3,\n",
       " 'subsample': 0.6}"
      ]
     },
     "execution_count": 23,
     "metadata": {},
     "output_type": "execute_result"
    }
   ],
   "source": [
    "optimized_tree.best_params_"
   ]
  },
  {
   "cell_type": "code",
   "execution_count": 24,
   "metadata": {},
   "outputs": [
    {
     "data": {
      "text/plain": [
       "XGBClassifier(base_score=0.5, booster='gbtree', colsample_bylevel=1,\n",
       "       colsample_bytree=0.8, gamma=1.5, learning_rate=0.2,\n",
       "       max_delta_step=0, max_depth=3, min_child_weight=1, missing=None,\n",
       "       n_estimators=100, n_jobs=1, nthread=None,\n",
       "       objective='binary:logistic', random_state=0, reg_alpha=0,\n",
       "       reg_lambda=1, scale_pos_weight=1, seed=None, silent=True,\n",
       "       subsample=0.6)"
      ]
     },
     "execution_count": 24,
     "metadata": {},
     "output_type": "execute_result"
    }
   ],
   "source": [
    "optimized_tree.best_estimator_"
   ]
  },
  {
   "cell_type": "code",
   "execution_count": 25,
   "metadata": {},
   "outputs": [],
   "source": [
    "final_xgb = optimized_tree.best_estimator_"
   ]
  },
  {
   "cell_type": "code",
   "execution_count": null,
   "metadata": {},
   "outputs": [],
   "source": [
    "# out of sample model predictive power\n",
    "\n",
    "y_test_pred = final_xgb.predict(x_test)\n",
    "metrics.accuracy_score(y_test, y_test_pred)  # "
   ]
  },
  {
   "cell_type": "code",
   "execution_count": null,
   "metadata": {},
   "outputs": [],
   "source": []
  }
 ],
 "metadata": {
  "kernelspec": {
   "display_name": "Python 3",
   "language": "python",
   "name": "python3"
  },
  "language_info": {
   "codemirror_mode": {
    "name": "ipython",
    "version": 3
   },
   "file_extension": ".py",
   "mimetype": "text/x-python",
   "name": "python",
   "nbconvert_exporter": "python",
   "pygments_lexer": "ipython3",
   "version": "3.7.3"
  }
 },
 "nbformat": 4,
 "nbformat_minor": 2
}
